{
 "cells": [
  {
   "cell_type": "markdown",
   "id": "edcb7ec7-ff3e-4e9c-84f4-608c7e24ae55",
   "metadata": {},
   "source": [
    "# NB GLM test"
   ]
  },
  {
   "cell_type": "code",
   "execution_count": 323,
   "id": "83f2071f-cc76-4aba-b3c8-00c814a43b12",
   "metadata": {},
   "outputs": [],
   "source": [
    "import multiprocessing\n",
    "import warnings\n",
    "from math import floor\n",
    "from pathlib import Path\n",
    "from typing import List\n",
    "from typing import Literal\n",
    "from typing import Optional\n",
    "from typing import Tuple\n",
    "from typing import Union\n",
    "from typing import cast"
   ]
  },
  {
   "cell_type": "code",
   "execution_count": 324,
   "id": "4dad75a7-57bb-4772-8a74-955459ad066e",
   "metadata": {},
   "outputs": [],
   "source": [
    "import numpy as np\n",
    "import pandas as pd\n",
    "from matplotlib import pyplot as plt\n",
    "from scipy.linalg import solve  # type: ignore\n",
    "from scipy.optimize import minimize  # type: ignore\n",
    "from scipy.special import gammaln  # type: ignore\n",
    "from scipy.special import polygamma  # type: ignore\n",
    "from scipy.stats import norm  # type: ignore\n",
    "from sklearn.linear_model import LinearRegression  # type: ignore"
   ]
  },
  {
   "cell_type": "code",
   "execution_count": 325,
   "id": "4bf68961-cfd7-4dda-bef2-3d36d5fec4a0",
   "metadata": {},
   "outputs": [
    {
     "data": {
      "text/plain": [
       "array([5071, 5010, 1623, 1851, 1769, 2065, 1412, 1188, 1668, 1674,  949,\n",
       "       1104,  841, 1061,  852, 1108])"
      ]
     },
     "execution_count": 325,
     "metadata": {},
     "output_type": "execute_result"
    }
   ],
   "source": [
    "#generate count data for a single gene (vector)\n",
    "counts = [5071, 5010, 1623, 1851, 1769, 2065, 1412, 1188, 1668, 1674, 949, 1104, 841, 1061, 852, 1108]\n",
    "counts = np.array(counts)\n",
    "counts "
   ]
  },
  {
   "cell_type": "code",
   "execution_count": 326,
   "id": "2dd0db03-07be-4308-8a41-44fb5cfa631a",
   "metadata": {},
   "outputs": [
    {
     "data": {
      "text/plain": [
       "array([2.00000001, 2.50000001, 1.50000001, 2.00000001, 2.00000001,\n",
       "       1.50000001, 2.00000001, 2.00000001, 1.00000001, 1.00000001,\n",
       "       1.00000001, 1.00000001, 1.00000001, 1.00000001, 1.00000001,\n",
       "       1.00000001])"
      ]
     },
     "execution_count": 326,
     "metadata": {},
     "output_type": "execute_result"
    }
   ],
   "source": [
    "#generate CNV data\n",
    "cnv = [4, 5, 3, 4, 4, 3, 4, 4, 2, 2, 2, 2, 2, 2, 2, 2]\n",
    "cnv = np.array(cnv)\n",
    "cnv = cnv/2\n",
    "cnv = cnv + 10e-9\n",
    "cnv"
   ]
  },
  {
   "cell_type": "code",
   "execution_count": 327,
   "id": "3461776f-3297-4b67-bbf8-bbe497293421",
   "metadata": {},
   "outputs": [
    {
     "data": {
      "text/plain": [
       "1.3452317"
      ]
     },
     "execution_count": 327,
     "metadata": {},
     "output_type": "execute_result"
    }
   ],
   "source": [
    "#Generate dispersion data\n",
    "#dispersions = np.array([0.1989177, 1.3452317, 0.2803645, 0.2750281, 0.1786459, 0.3633964, 0.4704590, 0.3415177, 0.2745592, 0.4313849])\n",
    "disp = 1.3452317\n",
    "alpha = disp\n",
    "alpha"
   ]
  },
  {
   "cell_type": "code",
   "execution_count": 328,
   "id": "4ffc3347-38ae-4a04-9148-e99fdbb78788",
   "metadata": {},
   "outputs": [
    {
     "data": {
      "text/plain": [
       "array([1.16950695, 1.08637265, 1.15012341, 1.19435402, 1.08791923,\n",
       "       1.17677969, 1.16581881, 0.77746277, 1.17488973, 0.91116436,\n",
       "       0.8980075 , 1.06022032, 0.90552191, 0.9371684 , 0.78716591,\n",
       "       0.99839825])"
      ]
     },
     "execution_count": 328,
     "metadata": {},
     "output_type": "execute_result"
    }
   ],
   "source": [
    "#Generate real calculated sf data\n",
    "size_factors = np.array([1.16950695, 1.08637265, 1.15012341, 1.19435402, 1.08791923, 1.17677969, 1.16581881,\n",
    "       0.77746277, 1.17488973, 0.91116436, 0.8980075 , 1.06022032, 0.90552191, 0.9371684 , 0.78716591, 0.99839825])\n",
    "size_factors"
   ]
  },
  {
   "cell_type": "code",
   "execution_count": 137,
   "id": "7a432622-e08d-4fb3-b3c7-aa3b3be4b491",
   "metadata": {},
   "outputs": [
    {
     "data": {
      "text/plain": [
       "array([1, 1, 1, 1, 1, 1, 1, 1, 0, 0, 0, 0, 0, 0, 0, 0])"
      ]
     },
     "execution_count": 137,
     "metadata": {},
     "output_type": "execute_result"
    }
   ],
   "source": [
    "#Generate design matrix\n",
    "#X = np.array([1, 0])\n",
    "#X = np.repeat(X, [8, 8], axis=0)\n",
    "#X.T"
   ]
  },
  {
   "cell_type": "code",
   "execution_count": 329,
   "id": "266d5bc7-0565-422a-898c-18a37b1be8db",
   "metadata": {},
   "outputs": [
    {
     "data": {
      "text/plain": [
       "{'condition': [0, 0, 0, 0, 0, 0, 0, 0, 1, 1, 1, 1, 1, 1, 1, 1]}"
      ]
     },
     "execution_count": 329,
     "metadata": {},
     "output_type": "execute_result"
    }
   ],
   "source": [
    "X = {'condition': [0, 0, 0, 0, 0, 0, 0, 0, 1, 1, 1, 1, 1, 1, 1, 1]}\n",
    "X"
   ]
  },
  {
   "cell_type": "code",
   "execution_count": 330,
   "id": "208e8f83-e6b6-4110-8f40-3ccfd04d4506",
   "metadata": {},
   "outputs": [
    {
     "data": {
      "text/html": [
       "<div>\n",
       "<style scoped>\n",
       "    .dataframe tbody tr th:only-of-type {\n",
       "        vertical-align: middle;\n",
       "    }\n",
       "\n",
       "    .dataframe tbody tr th {\n",
       "        vertical-align: top;\n",
       "    }\n",
       "\n",
       "    .dataframe thead th {\n",
       "        text-align: right;\n",
       "    }\n",
       "</style>\n",
       "<table border=\"1\" class=\"dataframe\">\n",
       "  <thead>\n",
       "    <tr style=\"text-align: right;\">\n",
       "      <th></th>\n",
       "      <th>intercept</th>\n",
       "      <th>condition</th>\n",
       "    </tr>\n",
       "  </thead>\n",
       "  <tbody>\n",
       "    <tr>\n",
       "      <th>sample1</th>\n",
       "      <td>1</td>\n",
       "      <td>0</td>\n",
       "    </tr>\n",
       "    <tr>\n",
       "      <th>sample2</th>\n",
       "      <td>1</td>\n",
       "      <td>0</td>\n",
       "    </tr>\n",
       "    <tr>\n",
       "      <th>sample3</th>\n",
       "      <td>1</td>\n",
       "      <td>0</td>\n",
       "    </tr>\n",
       "    <tr>\n",
       "      <th>sample4</th>\n",
       "      <td>1</td>\n",
       "      <td>0</td>\n",
       "    </tr>\n",
       "    <tr>\n",
       "      <th>sample5</th>\n",
       "      <td>1</td>\n",
       "      <td>0</td>\n",
       "    </tr>\n",
       "    <tr>\n",
       "      <th>sample6</th>\n",
       "      <td>1</td>\n",
       "      <td>0</td>\n",
       "    </tr>\n",
       "    <tr>\n",
       "      <th>sample7</th>\n",
       "      <td>1</td>\n",
       "      <td>0</td>\n",
       "    </tr>\n",
       "    <tr>\n",
       "      <th>sample8</th>\n",
       "      <td>1</td>\n",
       "      <td>0</td>\n",
       "    </tr>\n",
       "    <tr>\n",
       "      <th>sample9</th>\n",
       "      <td>1</td>\n",
       "      <td>1</td>\n",
       "    </tr>\n",
       "    <tr>\n",
       "      <th>sample10</th>\n",
       "      <td>1</td>\n",
       "      <td>1</td>\n",
       "    </tr>\n",
       "    <tr>\n",
       "      <th>sample11</th>\n",
       "      <td>1</td>\n",
       "      <td>1</td>\n",
       "    </tr>\n",
       "    <tr>\n",
       "      <th>sample12</th>\n",
       "      <td>1</td>\n",
       "      <td>1</td>\n",
       "    </tr>\n",
       "    <tr>\n",
       "      <th>sample13</th>\n",
       "      <td>1</td>\n",
       "      <td>1</td>\n",
       "    </tr>\n",
       "    <tr>\n",
       "      <th>sample14</th>\n",
       "      <td>1</td>\n",
       "      <td>1</td>\n",
       "    </tr>\n",
       "    <tr>\n",
       "      <th>sample15</th>\n",
       "      <td>1</td>\n",
       "      <td>1</td>\n",
       "    </tr>\n",
       "    <tr>\n",
       "      <th>sample16</th>\n",
       "      <td>1</td>\n",
       "      <td>1</td>\n",
       "    </tr>\n",
       "  </tbody>\n",
       "</table>\n",
       "</div>"
      ],
      "text/plain": [
       "          intercept  condition\n",
       "sample1           1          0\n",
       "sample2           1          0\n",
       "sample3           1          0\n",
       "sample4           1          0\n",
       "sample5           1          0\n",
       "sample6           1          0\n",
       "sample7           1          0\n",
       "sample8           1          0\n",
       "sample9           1          1\n",
       "sample10          1          1\n",
       "sample11          1          1\n",
       "sample12          1          1\n",
       "sample13          1          1\n",
       "sample14          1          1\n",
       "sample15          1          1\n",
       "sample16          1          1"
      ]
     },
     "execution_count": 330,
     "metadata": {},
     "output_type": "execute_result"
    }
   ],
   "source": [
    "X = pd.DataFrame(X, index = ['sample1', 'sample2', 'sample3', 'sample4', 'sample5', 'sample6', 'sample7', 'sample8', 'sample9', 'sample10',\n",
    "                            'sample11', 'sample12', 'sample13', 'sample14', 'sample15', 'sample16'])\n",
    "X.insert(0, \"intercept\", 1)\n",
    "X"
   ]
  },
  {
   "cell_type": "code",
   "execution_count": 331,
   "id": "22803ac1-8f3c-42fb-af6f-7dce0f093305",
   "metadata": {},
   "outputs": [
    {
     "data": {
      "text/plain": [
       "array([[1, 0],\n",
       "       [1, 0],\n",
       "       [1, 0],\n",
       "       [1, 0],\n",
       "       [1, 0],\n",
       "       [1, 0],\n",
       "       [1, 0],\n",
       "       [1, 0],\n",
       "       [1, 1],\n",
       "       [1, 1],\n",
       "       [1, 1],\n",
       "       [1, 1],\n",
       "       [1, 1],\n",
       "       [1, 1],\n",
       "       [1, 1],\n",
       "       [1, 1]])"
      ]
     },
     "execution_count": 331,
     "metadata": {},
     "output_type": "execute_result"
    }
   ],
   "source": [
    "X = np.array(X)\n",
    "X"
   ]
  },
  {
   "cell_type": "code",
   "execution_count": 332,
   "id": "28113627-92b9-4b64-a578-2769056039d7",
   "metadata": {},
   "outputs": [],
   "source": [
    "design_matrix = X"
   ]
  },
  {
   "cell_type": "code",
   "execution_count": 333,
   "id": "a6d2dff5-ef53-4982-9c37-11528c0599bd",
   "metadata": {},
   "outputs": [
    {
     "data": {
      "text/plain": [
       "2"
      ]
     },
     "execution_count": 333,
     "metadata": {},
     "output_type": "execute_result"
    }
   ],
   "source": [
    "num_vars = design_matrix.shape[1]\n",
    "num_vars"
   ]
  },
  {
   "cell_type": "code",
   "execution_count": 205,
   "id": "2c1797ad-6fd5-4f4c-8f51-06c80900f11b",
   "metadata": {},
   "outputs": [
    {
     "data": {
      "text/plain": [
       "(array([[-0.25, -0.25],\n",
       "        [-0.25, -0.25],\n",
       "        [-0.25, -0.25],\n",
       "        [-0.25, -0.25],\n",
       "        [-0.25, -0.25],\n",
       "        [-0.25, -0.25],\n",
       "        [-0.25, -0.25],\n",
       "        [-0.25, -0.25],\n",
       "        [-0.25,  0.25],\n",
       "        [-0.25,  0.25],\n",
       "        [-0.25,  0.25],\n",
       "        [-0.25,  0.25],\n",
       "        [-0.25,  0.25],\n",
       "        [-0.25,  0.25],\n",
       "        [-0.25,  0.25],\n",
       "        [-0.25,  0.25]]),\n",
       " array([[-4., -2.],\n",
       "        [ 0.,  2.]]))"
      ]
     },
     "execution_count": 205,
     "metadata": {},
     "output_type": "execute_result"
    }
   ],
   "source": [
    "Q, R = np.linalg.qr(X)\n",
    "Q, R"
   ]
  },
  {
   "cell_type": "code",
   "execution_count": 274,
   "id": "e7271090-0073-4888-aa4e-45d25a2bfde1",
   "metadata": {},
   "outputs": [
    {
     "data": {
      "text/plain": [
       "array([8.37473413, 8.43636858, 7.25223318, 7.34594037, 7.39396428,\n",
       "       7.47016086, 7.0994213 , 7.33181146, 7.25827672, 7.51605766,\n",
       "       6.96308028, 6.94831452, 6.83394313, 7.03194775, 6.98699515,\n",
       "       7.01200501])"
      ]
     },
     "execution_count": 274,
     "metadata": {},
     "output_type": "execute_result"
    }
   ],
   "source": [
    "y = np.log(counts / size_factors + 0.1)\n",
    "y"
   ]
  },
  {
   "cell_type": "code",
   "execution_count": 275,
   "id": "ec1ab8bd-dea3-4fbd-946b-d30b21ff9874",
   "metadata": {},
   "outputs": [
    {
     "data": {
      "text/plain": [
       "array([ 7.58807927, -0.51925174])"
      ]
     },
     "execution_count": 275,
     "metadata": {},
     "output_type": "execute_result"
    }
   ],
   "source": [
    "beta_init = solve(R, Q.T @ y)\n",
    "beta = beta_init\n",
    "beta"
   ]
  },
  {
   "cell_type": "code",
   "execution_count": 276,
   "id": "fa5ca22f-22c2-440e-9727-d21d9b00f311",
   "metadata": {},
   "outputs": [
    {
     "data": {
      "text/plain": [
       "array([[1.e-06, 0.e+00],\n",
       "       [0.e+00, 1.e-06]])"
      ]
     },
     "execution_count": 276,
     "metadata": {},
     "output_type": "execute_result"
    }
   ],
   "source": [
    "ridge_factor = np.diag(np.repeat(1e-6, num_vars))\n",
    "ridge_factor"
   ]
  },
  {
   "cell_type": "code",
   "execution_count": 277,
   "id": "a9280f86-20c4-4d86-9a59-cfbfffbcd0d7",
   "metadata": {},
   "outputs": [
    {
     "data": {
      "text/plain": [
       "array([2309.21176602, 2145.06164812, 2270.93862995, 2358.27273688,\n",
       "       2148.11539717, 2323.57191734, 2301.92946959, 1535.11372987,\n",
       "       1380.22502252, 1070.40841127, 1054.95212892, 1245.51485785,\n",
       "       1063.77983117, 1100.95717323,  924.73877175, 1172.88815444])"
      ]
     },
     "execution_count": 277,
     "metadata": {},
     "output_type": "execute_result"
    }
   ],
   "source": [
    "# Classical model\n",
    "mu = np.maximum(size_factors * np.exp(X @ beta), min_mu)\n",
    "mu"
   ]
  },
  {
   "cell_type": "code",
   "execution_count": 278,
   "id": "3639e66f-48d7-47af-97c9-811a4ad27a26",
   "metadata": {},
   "outputs": [
    {
     "data": {
      "text/plain": [
       "array([0.74312714, 0.74310884, 0.74312311, 0.74313212, 0.74310921,\n",
       "       0.74312862, 0.74312639, 0.74300657, 0.74296622, 0.74285048,\n",
       "       0.74284293, 0.74292296, 0.74284727, 0.74286478, 0.74276928,\n",
       "       0.74289553])"
      ]
     },
     "execution_count": 278,
     "metadata": {},
     "output_type": "execute_result"
    }
   ],
   "source": [
    "# Analitical IRLS algorithm calculations check\n",
    "\n",
    "W = mu / (1.0 + mu * disp)\n",
    "W"
   ]
  },
  {
   "cell_type": "code",
   "execution_count": 280,
   "id": "b0312670-eb1a-4484-b5d1-054ee01a1ffb",
   "metadata": {},
   "outputs": [
    {
     "data": {
      "text/plain": [
       "array([8.78406669, 8.92367648, 7.30276173, 7.37297576, 7.41159182,\n",
       "       7.47679719, 7.20147773, 7.3619633 , 7.27732612, 7.63271658,\n",
       "       6.96839441, 6.95520796, 6.85940465, 7.03253441, 6.9901688 ,\n",
       "       7.01350413])"
      ]
     },
     "execution_count": 280,
     "metadata": {},
     "output_type": "execute_result"
    }
   ],
   "source": [
    "z = np.log(mu / size_factors) + (counts - mu) / mu\n",
    "z"
   ]
  },
  {
   "cell_type": "code",
   "execution_count": 281,
   "id": "f7da2b43-2dad-4905-960d-84e4391c2579",
   "metadata": {},
   "outputs": [
    {
     "data": {
      "text/plain": [
       "array([[11.88782244,  5.94295944],\n",
       "       [ 5.94295944,  5.94296044]])"
      ]
     },
     "execution_count": 281,
     "metadata": {},
     "output_type": "execute_result"
    }
   ],
   "source": [
    "H = (X.T * W) @ X + ridge_factor\n",
    "H"
   ]
  },
  {
   "cell_type": "code",
   "execution_count": 282,
   "id": "fd016335-3c08-4811-b7cf-bfd8e11bf425",
   "metadata": {},
   "outputs": [
    {
     "data": {
      "text/plain": [
       "array([ 7.72941716, -0.63825702])"
      ]
     },
     "execution_count": 282,
     "metadata": {},
     "output_type": "execute_result"
    }
   ],
   "source": [
    "beta_hat = solve(H, X.T @ (W * z), assume_a=\"pos\")\n",
    "beta_hat"
   ]
  },
  {
   "cell_type": "markdown",
   "id": "58497fc3-85fb-439c-9331-45907570b124",
   "metadata": {},
   "source": [
    "### CN normalized model"
   ]
  },
  {
   "cell_type": "code",
   "execution_count": 301,
   "id": "22d77a96-5af8-4765-affd-c3d42ea28d55",
   "metadata": {},
   "outputs": [
    {
     "data": {
      "text/plain": [
       "array([2.00000001, 2.50000001, 1.50000001, 2.00000001, 2.00000001,\n",
       "       1.50000001, 2.00000001, 2.00000001, 1.00000001, 1.00000001,\n",
       "       1.00000001, 1.00000001, 1.00000001, 1.00000001, 1.00000001,\n",
       "       1.00000001])"
      ]
     },
     "execution_count": 301,
     "metadata": {},
     "output_type": "execute_result"
    }
   ],
   "source": [
    "#cn = np.log(cnv)\n",
    "cnv"
   ]
  },
  {
   "cell_type": "code",
   "execution_count": null,
   "id": "35298609-bc8f-49c4-8eb5-ab270a07fdaa",
   "metadata": {},
   "outputs": [],
   "source": []
  },
  {
   "cell_type": "code",
   "execution_count": 334,
   "id": "3c4428f4-cc1a-4a7e-9846-d9285eec7cf9",
   "metadata": {},
   "outputs": [
    {
     "data": {
      "text/plain": [
       "array([[1, 1, 1, 1, 1, 1, 1, 1, 1, 1, 1, 1, 1, 1, 1, 1],\n",
       "       [0, 0, 0, 0, 0, 0, 0, 0, 1, 1, 1, 1, 1, 1, 1, 1]])"
      ]
     },
     "execution_count": 334,
     "metadata": {},
     "output_type": "execute_result"
    }
   ],
   "source": [
    "X_t = X.T\n",
    "X_t"
   ]
  },
  {
   "cell_type": "code",
   "execution_count": 286,
   "id": "d10cb66b-bfe9-443c-9f3a-7710f47cd7c5",
   "metadata": {},
   "outputs": [
    {
     "data": {
      "text/plain": [
       "array([4.55957905e+06, 1.88205037e+08, 1.00910395e+05, 4.65645079e+06,\n",
       "       4.24149145e+06, 1.03249184e+05, 4.54520003e+06, 3.03110893e+06,\n",
       "       1.38022513e+03, 1.07040849e+03, 1.05495221e+03, 1.24551495e+03,\n",
       "       1.06377991e+03, 1.10095726e+03, 9.24738842e+02, 1.17288824e+03])"
      ]
     },
     "execution_count": 286,
     "metadata": {},
     "output_type": "execute_result"
    }
   ],
   "source": [
    "min_mu = 0.5\n",
    "mu = np.maximum(size_factors * np.exp(X_t[0] * beta[0] * cnv + X_t[1] * beta[1]), min_mu)\n",
    "mu # controllare se devo passare log(cn)"
   ]
  },
  {
   "cell_type": "code",
   "execution_count": 287,
   "id": "e3f1347b-b5d5-4ba8-902f-e815940e047c",
   "metadata": {},
   "outputs": [
    {
     "data": {
      "text/plain": [
       "array([0.74336624, 0.74336636, 0.74336089, 0.74336625, 0.74336624,\n",
       "       0.74336101, 0.74336624, 0.74336618, 0.74296622, 0.74285048,\n",
       "       0.74284293, 0.74292296, 0.74284727, 0.74286478, 0.74276928,\n",
       "       0.74289553])"
      ]
     },
     "execution_count": 287,
     "metadata": {},
     "output_type": "execute_result"
    }
   ],
   "source": [
    "W = mu / (1.0 + mu * disp)\n",
    "W"
   ]
  },
  {
   "cell_type": "code",
   "execution_count": 288,
   "id": "5e320120-770c-4f5e-a0cc-e1875d0a999c",
   "metadata": {},
   "outputs": [
    {
     "data": {
      "text/plain": [
       "array([14.17727078, 17.97022487, 10.39820255, 14.17655613, 14.17657568,\n",
       "       10.40211914, 14.17646927, 14.17655055,  7.27732611,  7.63271654,\n",
       "        6.96839442,  6.95520797,  6.85940467,  7.03253441,  6.99016881,\n",
       "        7.01350414])"
      ]
     },
     "execution_count": 288,
     "metadata": {},
     "output_type": "execute_result"
    }
   ],
   "source": [
    "z = np.log(mu / size_factors) + (counts - mu) / mu\n",
    "z"
   ]
  },
  {
   "cell_type": "code",
   "execution_count": 289,
   "id": "9cb3c87e-fba6-42e2-9cd7-5f0ff53e727d",
   "metadata": {},
   "outputs": [
    {
     "data": {
      "text/plain": [
       "array([[11.88987986,  5.94295944],\n",
       "       [ 5.94295944,  5.94296044]])"
      ]
     },
     "execution_count": 289,
     "metadata": {},
     "output_type": "execute_result"
    }
   ],
   "source": [
    "H = (X.T * W) @ X + ridge_factor\n",
    "H"
   ]
  },
  {
   "cell_type": "code",
   "execution_count": 290,
   "id": "8fc01156-b9a5-4304-8ed1-c133e1986625",
   "metadata": {},
   "outputs": [
    {
     "data": {
      "text/plain": [
       "array([13.70674867, -6.61558752])"
      ]
     },
     "execution_count": 290,
     "metadata": {},
     "output_type": "execute_result"
    }
   ],
   "source": [
    "beta_hat = solve(H, X.T @ (W * z), assume_a=\"pos\")\n",
    "beta_hat"
   ]
  },
  {
   "cell_type": "markdown",
   "id": "9eb22471-a572-4fbd-b624-c959c888e575",
   "metadata": {},
   "source": [
    "### Test classical GLM"
   ]
  },
  {
   "cell_type": "code",
   "execution_count": 362,
   "id": "b864c281-3485-4997-aeee-e71a9d8a939e",
   "metadata": {},
   "outputs": [],
   "source": [
    "def nb_nll(\n",
    "    counts: np.ndarray, mu: np.ndarray, alpha: Union[float, np.ndarray]\n",
    ") -> Union[float, np.ndarray]:\n",
    "    n = len(counts)\n",
    "    alpha_neg1 = 1 / alpha\n",
    "    logbinom = gammaln(counts + alpha_neg1) - gammaln(counts + 1) - gammaln(alpha_neg1)\n",
    "    if hasattr(alpha, \"__len__\") and len(alpha) > 1:\n",
    "        return (\n",
    "            alpha_neg1 * np.log(alpha)\n",
    "            - logbinom\n",
    "            + (counts + alpha_neg1) * np.log(mu + alpha_neg1)\n",
    "            - (counts * np.log(mu))\n",
    "        ).sum(0)\n",
    "    else:\n",
    "        return (\n",
    "            n * alpha_neg1 * np.log(alpha)\n",
    "            + (\n",
    "                -logbinom\n",
    "                + (counts + alpha_neg1) * np.log(alpha_neg1 + mu)\n",
    "                - counts * np.log(mu)\n",
    "            ).sum()\n",
    "        )"
   ]
  },
  {
   "cell_type": "code",
   "execution_count": 363,
   "id": "29187bed-f7a7-4656-bcbe-a77226cac4a5",
   "metadata": {},
   "outputs": [],
   "source": [
    "def vec_nb_nll(counts: np.ndarray, mu: np.ndarray, alpha: np.ndarray) -> np.ndarray:\n",
    "    n = len(counts)\n",
    "    alpha_neg1 = 1 / alpha\n",
    "    logbinom = (\n",
    "        gammaln(counts[:, None] + alpha_neg1)\n",
    "        - gammaln(counts + 1)[:, None]\n",
    "        - gammaln(alpha_neg1)\n",
    "    )\n",
    "\n",
    "    if len(mu.shape) == 1:\n",
    "        return n * alpha_neg1 * np.log(alpha) + (\n",
    "            -logbinom\n",
    "            + (counts[:, None] + alpha_neg1) * np.log(mu[:, None] + alpha_neg1)\n",
    "            - (counts * np.log(mu))[:, None]\n",
    "        ).sum(0)\n",
    "    else:\n",
    "        return n * alpha_neg1 * np.log(alpha) + (\n",
    "            -logbinom\n",
    "            + (counts[:, None] + alpha_neg1) * np.log(mu + alpha_neg1)\n",
    "            - (counts[:, None] * np.log(mu))\n",
    "        ).sum(0)"
   ]
  },
  {
   "cell_type": "code",
   "execution_count": 364,
   "id": "2dce2dc4-eb75-4088-ab5e-9429e6d74469",
   "metadata": {},
   "outputs": [],
   "source": [
    "def grid_fit_beta(\n",
    "    counts: np.ndarray,\n",
    "    size_factors: np.ndarray,\n",
    "    cnv: np.ndarray,\n",
    "    design_matrix: np.ndarray,\n",
    "    disp: float,\n",
    "    min_mu: float = 0.5,\n",
    "    grid_length: int = 60,\n",
    "    min_beta: float = -30,\n",
    "    max_beta: float = 30,\n",
    ") -> np.ndarray:\n",
    "    x_grid = np.linspace(min_beta, max_beta, grid_length)\n",
    "    y_grid = np.linspace(min_beta, max_beta, grid_length)\n",
    "    ll_grid = np.zeros((grid_length, grid_length))\n",
    "\n",
    "    def loss(beta: np.ndarray) -> np.ndarray:\n",
    "        # closure to minimize\n",
    "        design_matrix_t = design_matrix.T\n",
    "        mu = np.maximum(size_factors[:, None] * np.exp(design_matrix_t[0] * beta[0] + design_matrix_t[1] * beta[1]), min_mu)\n",
    "        return vec_nb_nll(counts, mu, disp) + 0.5 * (1e-6 * beta**2).sum(1)\n",
    "\n",
    "    for i, x in enumerate(x_grid):\n",
    "        ll_grid[i, :] = loss(np.array([[x, y] for y in y_grid]))\n",
    "\n",
    "    min_idxs = np.unravel_index(np.argmin(ll_grid, axis=None), ll_grid.shape)\n",
    "    delta = x_grid[1] - x_grid[0]\n",
    "\n",
    "    fine_x_grid = np.linspace(\n",
    "        x_grid[min_idxs[0]] - delta, x_grid[min_idxs[0]] + delta, grid_length\n",
    "    )\n",
    "\n",
    "    fine_y_grid = np.linspace(\n",
    "        y_grid[min_idxs[1]] - delta,\n",
    "        y_grid[min_idxs[1]] + delta,\n",
    "        grid_length,\n",
    "    )\n",
    "\n",
    "    for i, x in enumerate(fine_x_grid):\n",
    "        ll_grid[i, :] = loss(np.array([[x, y] for y in fine_y_grid]))\n",
    "\n",
    "    min_idxs = np.unravel_index(np.argmin(ll_grid, axis=None), ll_grid.shape)\n",
    "    beta = np.array([fine_x_grid[min_idxs[0]], fine_y_grid[min_idxs[1]]])\n",
    "    return beta"
   ]
  },
  {
   "cell_type": "code",
   "execution_count": 376,
   "id": "637a6e6d-92f3-4c04-b602-aece84c85ec0",
   "metadata": {},
   "outputs": [],
   "source": [
    "def irls_solver(\n",
    "    counts: np.ndarray,\n",
    "    size_factors: np.ndarray,\n",
    "    design_matrix: np.ndarray,\n",
    "    cnv: np.ndarray,\n",
    "    disp: float,\n",
    "    min_mu: float = 0.5,\n",
    "    beta_tol: float = 1e-8,\n",
    "    min_beta: float = -30,\n",
    "    max_beta: float = 30,\n",
    "    optimizer: Literal[\"BFGS\", \"L-BFGS-B\"] = \"L-BFGS-B\",\n",
    "    maxiter: int = 250,\n",
    ") -> Tuple[np.ndarray, np.ndarray, np.ndarray, bool]:\n",
    "\n",
    "    assert optimizer in [\"BFGS\", \"L-BFGS-B\"]\n",
    "    \n",
    "    num_vars = design_matrix.shape[1]\n",
    "    X = design_matrix\n",
    "    \n",
    "    # if full rank, estimate initial betas for IRLS below\n",
    "    if np.linalg.matrix_rank(X) == num_vars:\n",
    "        Q, R = np.linalg.qr(X)\n",
    "        y = np.log(counts / size_factors + 0.1)\n",
    "        beta_init = solve(R, Q.T @ y)\n",
    "        beta = beta_init\n",
    "    else:  # Initialise intercept with log base mean\n",
    "        beta_init = np.zeros(num_vars)\n",
    "        beta_init[0] = np.log(counts / size_factors).mean()\n",
    "        beta = beta_init\n",
    "        \n",
    "    dev = 1000.0\n",
    "    dev_ratio = 1.0\n",
    "\n",
    "    ridge_factor = np.diag(np.repeat(1e-6, num_vars))\n",
    "    #mu = np.maximum(size_factors * np.exp(X @ beta), min_mu)\n",
    "\n",
    "    X_t = X.T\n",
    "    mu = np.maximum(size_factors * np.exp(X_t[0] * beta[0] * cnv + X_t[1] * beta[1]), min_mu)\n",
    "    \n",
    "    converged = True\n",
    "    i = 0\n",
    "    while dev_ratio > beta_tol:\n",
    "        W = mu / (1.0 + mu * disp)\n",
    "        z = np.log(mu / size_factors) + (counts - mu) / mu\n",
    "        H = (X.T * W) @ X + ridge_factor\n",
    "        beta_hat = solve(H, X.T @ (W * z), assume_a=\"pos\")\n",
    "        i += 1\n",
    "\n",
    "        if sum(np.abs(beta_hat) > max_beta) > 0 or i >= maxiter:\n",
    "            # If IRLS starts diverging, use L-BFGS-B\n",
    "            def f(beta: np.ndarray) -> float:\n",
    "                # closure to minimize\n",
    "                #mu_ = np.maximum(size_factors * np.exp(X @ beta), min_mu)\n",
    "                mu_ = np.maximum(size_factors * np.exp(X_t[0] * beta[0] * cnv + X_t[1] * beta[1]), min_mu)\n",
    "                \n",
    "                return nb_nll(counts, mu_, disp) + 0.5 * (ridge_factor @ beta**2).sum()\n",
    "\n",
    "            def df(beta: np.ndarray) -> np.ndarray:\n",
    "                #mu_ = np.maximum(size_factors * np.exp(X @ beta), min_mu)\n",
    "                mu_ = np.maximum(size_factors * np.exp(X_t[0] * beta[0] * cnv + X_t[1] * beta[1]), min_mu)\n",
    "                return (\n",
    "                    -X.T @ counts\n",
    "                    + ((1 / disp + counts) * mu_ / (1 / disp + mu_)) @ X\n",
    "                    + ridge_factor @ beta\n",
    "                )\n",
    "\n",
    "            res = minimize(\n",
    "                f,\n",
    "                beta_init,\n",
    "                jac=df,\n",
    "                method=optimizer,\n",
    "                bounds=(\n",
    "                    [(min_beta, max_beta)] * num_vars\n",
    "                    if optimizer == \"L-BFGS-B\"\n",
    "                    else None\n",
    "                ),\n",
    "            )\n",
    "\n",
    "            beta = res.x\n",
    "            #mu = np.maximum(size_factors * np.exp(X @ beta), min_mu)\n",
    "            mu = np.maximum(size_factors * np.exp(X_t[0] * beta[0] * cnv + X_t[1] * beta[1]), min_mu)\n",
    "            converged = res.success\n",
    "\n",
    "            if not res.success and num_vars <= 2:\n",
    "                beta = grid_fit_beta(\n",
    "                    counts,\n",
    "                    size_factors,\n",
    "                    X,\n",
    "                    disp,\n",
    "                )\n",
    "                #mu = np.maximum(size_factors * np.exp(X @ beta), min_mu\n",
    "                mu = np.maximum(size_factors * np.exp(X_t[0] * beta[0] * cnv + X_t[1] * beta[1]), min_mu) \n",
    "            break\n",
    "\n",
    "        beta = beta_hat\n",
    "        #mu = np.maximum(size_factors * np.exp(X @ beta), min_mu)\n",
    "        mu = np.maximum(size_factors * np.exp(X_t[0] * beta[0] * cnv + X_t[1] * beta[1]), min_mu)\n",
    "        # Compute deviation\n",
    "        old_dev = dev\n",
    "        # Replaced deviation with -2 * nll, as in the R code\n",
    "        dev = -2 * nb_nll(counts, mu, disp)\n",
    "        dev_ratio = np.abs(dev - old_dev) / (np.abs(dev) + 0.1)\n",
    "\n",
    "    # Compute H diagonal (useful for Cook distance outlier filtering)\n",
    "    W = mu / (1.0 + mu * disp)\n",
    "    W_sq = np.sqrt(W)\n",
    "    XtWX = (X.T * W) @ X + ridge_factor\n",
    "    H = W_sq * np.diag(X @ np.linalg.inv(XtWX) @ X.T) * W_sq\n",
    "    # Return an UNthresholded mu (as in the R code)\n",
    "    # Previous quantities are estimated with a threshold though\n",
    "    #mu = size_factors * np.exp(X @ beta)\n",
    "    mu = size_factors * np.exp(X_t[0] * beta[0] * cnv + X_t[1] * beta[1])\n",
    "\n",
    "    print(\"Beta parameters:\", beta), \n",
    "    print(\"Estimated mean:\", np.array(mu)), \n",
    "    print(\"H:\", np.array(H)),\n",
    "    print(\"Convergence:\", converged)\n",
    "    \n",
    "    return beta, mu, H, converged"
   ]
  },
  {
   "cell_type": "code",
   "execution_count": 300,
   "id": "c9ef66e7-1960-4b96-817d-24443018fe2b",
   "metadata": {},
   "outputs": [
    {
     "name": "stdout",
     "output_type": "stream",
     "text": [
      "Beta parameters: [ 7.72027975 -0.62936539]\n",
      "Estimated mean: [2635.58908755 2448.2384661  2591.90653697 2691.58419434 2451.72382321\n",
      " 2651.97886119 2627.27753238 1752.08227073 1411.04896746 1094.3133611\n",
      " 1078.51190055 1273.33038124 1087.53674791 1125.54435483  945.39054701\n",
      " 1199.08173831]\n",
      "H: [0.12500282 0.12500012 0.12500222 0.12500355 0.12500017 0.12500303\n",
      " 0.1250027  0.12498505 0.12501583 0.12499678 0.12499553 0.12500871\n",
      " 0.12499625 0.12499913 0.12498341 0.12500419]\n",
      "Convergence: True\n"
     ]
    },
    {
     "data": {
      "text/plain": [
       "(array([ 7.72027975, -0.62936539]),\n",
       " array([2635.58908755, 2448.2384661 , 2591.90653697, 2691.58419434,\n",
       "        2451.72382321, 2651.97886119, 2627.27753238, 1752.08227073,\n",
       "        1411.04896746, 1094.3133611 , 1078.51190055, 1273.33038124,\n",
       "        1087.53674791, 1125.54435483,  945.39054701, 1199.08173831]),\n",
       " array([0.12500282, 0.12500012, 0.12500222, 0.12500355, 0.12500017,\n",
       "        0.12500303, 0.1250027 , 0.12498505, 0.12501583, 0.12499678,\n",
       "        0.12499553, 0.12500871, 0.12499625, 0.12499913, 0.12498341,\n",
       "        0.12500419]),\n",
       " True)"
      ]
     },
     "execution_count": 300,
     "metadata": {},
     "output_type": "execute_result"
    }
   ],
   "source": [
    "# Classical GLM\n",
    "irls_solver(counts, size_factors, design_matrix, cnv, disp)"
   ]
  },
  {
   "cell_type": "code",
   "execution_count": 377,
   "id": "d72dcb23-bbf9-42dd-8931-0587a385f4d9",
   "metadata": {},
   "outputs": [
    {
     "name": "stdout",
     "output_type": "stream",
     "text": [
      "Beta parameters: [4.20093517 2.88637762]\n",
      "Estimated mean: [ 5210.61215201 39544.51424337   627.2041216   5321.31559408\n",
      "  4847.10686007   641.74076048  5194.18004179  3463.90156732\n",
      "  1405.97617152  1090.37924648  1074.63459302  1268.75269093\n",
      "  1083.62699557  1121.49796313   941.99181781  1194.77097582]\n",
      "H: [0.1250314  0.12504689 0.12490121 0.12503178 0.12503007 0.12490456\n",
      " 0.12503135 0.12502241 0.12501588 0.12499677 0.12499552 0.12500874\n",
      " 0.12499624 0.12499913 0.12498335 0.12500421]\n",
      "Convergence: True\n"
     ]
    },
    {
     "data": {
      "text/plain": [
       "(array([4.20093517, 2.88637762]),\n",
       " array([ 5210.61215201, 39544.51424337,   627.2041216 ,  5321.31559408,\n",
       "         4847.10686007,   641.74076048,  5194.18004179,  3463.90156732,\n",
       "         1405.97617152,  1090.37924648,  1074.63459302,  1268.75269093,\n",
       "         1083.62699557,  1121.49796313,   941.99181781,  1194.77097582]),\n",
       " array([0.1250314 , 0.12504689, 0.12490121, 0.12503178, 0.12503007,\n",
       "        0.12490456, 0.12503135, 0.12502241, 0.12501588, 0.12499677,\n",
       "        0.12499552, 0.12500874, 0.12499624, 0.12499913, 0.12498335,\n",
       "        0.12500421]),\n",
       " True)"
      ]
     },
     "execution_count": 377,
     "metadata": {},
     "output_type": "execute_result"
    }
   ],
   "source": [
    "# CN normalized GLM\n",
    "irls_solver(counts, size_factors, design_matrix, cnv, disp)"
   ]
  },
  {
   "cell_type": "code",
   "execution_count": null,
   "id": "fa182573-d781-456b-b199-70d7080e15b1",
   "metadata": {},
   "outputs": [],
   "source": []
  }
 ],
 "metadata": {
  "kernelspec": {
   "display_name": "Python 3 (ipykernel)",
   "language": "python",
   "name": "python3"
  },
  "language_info": {
   "codemirror_mode": {
    "name": "ipython",
    "version": 3
   },
   "file_extension": ".py",
   "mimetype": "text/x-python",
   "name": "python",
   "nbconvert_exporter": "python",
   "pygments_lexer": "ipython3",
   "version": "3.11.7"
  }
 },
 "nbformat": 4,
 "nbformat_minor": 5
}
