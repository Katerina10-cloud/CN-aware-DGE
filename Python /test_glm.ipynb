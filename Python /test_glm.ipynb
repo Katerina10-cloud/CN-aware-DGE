{
 "cells": [
  {
   "cell_type": "markdown",
   "id": "edcb7ec7-ff3e-4e9c-84f4-608c7e24ae55",
   "metadata": {},
   "source": [
    "# NB GLM test"
   ]
  },
  {
   "cell_type": "code",
   "execution_count": 22,
   "id": "83f2071f-cc76-4aba-b3c8-00c814a43b12",
   "metadata": {},
   "outputs": [],
   "source": [
    "import multiprocessing\n",
    "import warnings\n",
    "from math import floor\n",
    "from pathlib import Path\n",
    "from typing import List\n",
    "from typing import Literal\n",
    "from typing import Optional\n",
    "from typing import Tuple\n",
    "from typing import Union\n",
    "from typing import cast"
   ]
  },
  {
   "cell_type": "code",
   "execution_count": 23,
   "id": "4dad75a7-57bb-4772-8a74-955459ad066e",
   "metadata": {},
   "outputs": [],
   "source": [
    "import numpy as np\n",
    "import pandas as pd\n",
    "from matplotlib import pyplot as plt\n",
    "from scipy.linalg import solve  # type: ignore\n",
    "from scipy.optimize import minimize  # type: ignore\n",
    "from scipy.special import gammaln  # type: ignore\n",
    "from scipy.special import polygamma  # type: ignore\n",
    "from scipy.stats import norm  # type: ignore\n",
    "from sklearn.linear_model import LinearRegression  # type: ignore"
   ]
  },
  {
   "cell_type": "code",
   "execution_count": 24,
   "id": "4bf68961-cfd7-4dda-bef2-3d36d5fec4a0",
   "metadata": {},
   "outputs": [
    {
     "data": {
      "text/plain": [
       "array([ 511, 1783,  241, 1129, 1302, 2204, 3888, 5035,  236,  468, 1424,\n",
       "        482,  842, 1145, 1261, 1661, 2712, 1707, 1125, 3832])"
      ]
     },
     "execution_count": 24,
     "metadata": {},
     "output_type": "execute_result"
    }
   ],
   "source": [
    "#generate count data for a single gene (vector), sample \n",
    "counts = [511, 1783, 241, 1129, 1302, 2204, 3888, 5035, 236, 468, 1424, 482, 842, 1145, 1261, 1661, 2712, 1707, 1125, 3832]\n",
    "counts = np.array(counts)\n",
    "counts "
   ]
  },
  {
   "cell_type": "code",
   "execution_count": 25,
   "id": "953d6c52-00d4-4a68-ad59-6654beac1943",
   "metadata": {},
   "outputs": [
    {
     "data": {
      "text/plain": [
       "array([ 511. , 1783. ,  241. , 1129. , 1302. , 2204. , 3888. , 5035. ,\n",
       "        236. ,  468. , 2848. , 1205. , 1263. , 4007.5, 2522. , 6644. ,\n",
       "       8136. , 3414. , 3375. , 9580. ])"
      ]
     },
     "execution_count": 25,
     "metadata": {},
     "output_type": "execute_result"
    }
   ],
   "source": [
    "# simulate CN-induced differential gene expression\n",
    "cnv = [2, 2, 2, 2, 2, 2, 2, 2, 2, 2, 4, 5, 3, 7, 4, 8, 6, 4, 6, 5]\n",
    "cnv = np.array(cnv)\n",
    "cnv = cnv/2\n",
    "counts = counts*cnv\n",
    "counts"
   ]
  },
  {
   "cell_type": "code",
   "execution_count": 26,
   "id": "2dd0db03-07be-4308-8a41-44fb5cfa631a",
   "metadata": {},
   "outputs": [
    {
     "data": {
      "text/plain": [
       "array([1.00001, 1.00001, 1.00001, 1.00001, 1.00001, 1.00001, 1.00001,\n",
       "       1.00001, 1.00001, 1.00001, 2.00001, 2.50001, 1.50001, 3.50001,\n",
       "       2.00001, 4.00001, 3.00001, 2.00001, 3.00001, 2.50001])"
      ]
     },
     "execution_count": 26,
     "metadata": {},
     "output_type": "execute_result"
    }
   ],
   "source": [
    "#generate CNV data\n",
    "cnv = cnv + 10e-6\n",
    "cnv"
   ]
  },
  {
   "cell_type": "code",
   "execution_count": 27,
   "id": "3461776f-3297-4b67-bbf8-bbe497293421",
   "metadata": {},
   "outputs": [
    {
     "data": {
      "text/plain": [
       "0.6037885"
      ]
     },
     "execution_count": 27,
     "metadata": {},
     "output_type": "execute_result"
    }
   ],
   "source": [
    "#Generate dispersion data\n",
    "disp = 0.6037885 \n",
    "alpha = disp\n",
    "alpha"
   ]
  },
  {
   "cell_type": "code",
   "execution_count": 28,
   "id": "4ffc3347-38ae-4a04-9148-e99fdbb78788",
   "metadata": {},
   "outputs": [
    {
     "data": {
      "text/plain": [
       "array([1.16950695, 1.08637265, 1.15012341, 1.19435402, 1.08791923,\n",
       "       1.17677969, 1.16581881, 0.77746277, 1.17488973, 0.91116436,\n",
       "       0.8980075 , 1.06022032, 0.90552191, 0.9371684 , 0.78716591,\n",
       "       0.99839825, 1.07677969, 0.9980075 , 0.7980075 , 1.05791923])"
      ]
     },
     "execution_count": 28,
     "metadata": {},
     "output_type": "execute_result"
    }
   ],
   "source": [
    "#Generate real calculated sf data\n",
    "size_factors = np.array([1.16950695, 1.08637265, 1.15012341, 1.19435402, 1.08791923, 1.17677969, 1.16581881,\n",
    "       0.77746277, 1.17488973, 0.91116436, 0.8980075 , 1.06022032, 0.90552191, 0.9371684 , 0.78716591, 0.99839825, 1.07677969,\n",
    "                        0.9980075, 0.7980075, 1.05791923])\n",
    "size_factors"
   ]
  },
  {
   "cell_type": "code",
   "execution_count": 56,
   "id": "7a432622-e08d-4fb3-b3c7-aa3b3be4b491",
   "metadata": {},
   "outputs": [],
   "source": [
    "#Generate design matrix\n",
    "#X = np.array([1, 0])\n",
    "#X = np.repeat(X, [8, 8], axis=0)\n",
    "#X.T"
   ]
  },
  {
   "cell_type": "code",
   "execution_count": 29,
   "id": "208e8f83-e6b6-4110-8f40-3ccfd04d4506",
   "metadata": {},
   "outputs": [],
   "source": [
    "X = {'condition': [0, 0, 0, 0, 0, 0, 0, 0, 0, 0, 1, 1, 1, 1, 1, 1, 1, 1, 1, 1]}\n",
    "X = pd.DataFrame(X, index = ['sample1', 'sample2', 'sample3', 'sample4', 'sample5', 'sample6', 'sample7', 'sample8', 'sample9', 'sample10',\n",
    "                            'sample11', 'sample12', 'sample13', 'sample14', 'sample15', 'sample16', 'sample17', 'sample18', 'sample19', 'sample20'])\n",
    "X.insert(0, \"intercept\", 1)"
   ]
  },
  {
   "cell_type": "code",
   "execution_count": 30,
   "id": "22803ac1-8f3c-42fb-af6f-7dce0f093305",
   "metadata": {},
   "outputs": [
    {
     "data": {
      "text/plain": [
       "array([[1, 0],\n",
       "       [1, 0],\n",
       "       [1, 0],\n",
       "       [1, 0],\n",
       "       [1, 0],\n",
       "       [1, 0],\n",
       "       [1, 0],\n",
       "       [1, 0],\n",
       "       [1, 0],\n",
       "       [1, 0],\n",
       "       [1, 1],\n",
       "       [1, 1],\n",
       "       [1, 1],\n",
       "       [1, 1],\n",
       "       [1, 1],\n",
       "       [1, 1],\n",
       "       [1, 1],\n",
       "       [1, 1],\n",
       "       [1, 1],\n",
       "       [1, 1]])"
      ]
     },
     "execution_count": 30,
     "metadata": {},
     "output_type": "execute_result"
    }
   ],
   "source": [
    "X = np.array(X)\n",
    "X"
   ]
  },
  {
   "cell_type": "code",
   "execution_count": 31,
   "id": "a6d2dff5-ef53-4982-9c37-11528c0599bd",
   "metadata": {},
   "outputs": [
    {
     "data": {
      "text/plain": [
       "2"
      ]
     },
     "execution_count": 31,
     "metadata": {},
     "output_type": "execute_result"
    }
   ],
   "source": [
    "design_matrix = X\n",
    "num_vars = design_matrix.shape[1]\n",
    "num_vars"
   ]
  },
  {
   "cell_type": "code",
   "execution_count": 11,
   "id": "2c1797ad-6fd5-4f4c-8f51-06c80900f11b",
   "metadata": {},
   "outputs": [
    {
     "data": {
      "text/plain": [
       "(array([[-0.2236068, -0.2236068],\n",
       "        [-0.2236068, -0.2236068],\n",
       "        [-0.2236068, -0.2236068],\n",
       "        [-0.2236068, -0.2236068],\n",
       "        [-0.2236068, -0.2236068],\n",
       "        [-0.2236068, -0.2236068],\n",
       "        [-0.2236068, -0.2236068],\n",
       "        [-0.2236068, -0.2236068],\n",
       "        [-0.2236068, -0.2236068],\n",
       "        [-0.2236068, -0.2236068],\n",
       "        [-0.2236068,  0.2236068],\n",
       "        [-0.2236068,  0.2236068],\n",
       "        [-0.2236068,  0.2236068],\n",
       "        [-0.2236068,  0.2236068],\n",
       "        [-0.2236068,  0.2236068],\n",
       "        [-0.2236068,  0.2236068],\n",
       "        [-0.2236068,  0.2236068],\n",
       "        [-0.2236068,  0.2236068],\n",
       "        [-0.2236068,  0.2236068],\n",
       "        [-0.2236068,  0.2236068]]),\n",
       " array([[-4.47213595, -2.23606798],\n",
       "        [ 0.        ,  2.23606798]]))"
      ]
     },
     "execution_count": 11,
     "metadata": {},
     "output_type": "execute_result"
    }
   ],
   "source": [
    "Q, R = np.linalg.qr(X)\n",
    "Q, R"
   ]
  },
  {
   "cell_type": "code",
   "execution_count": 54,
   "id": "e7271090-0073-4888-aa4e-45d25a2bfde1",
   "metadata": {},
   "outputs": [
    {
     "data": {
      "text/plain": [
       "array([ 6.08001618,  7.40326924,  5.3454048 ,  6.85158788,  7.08747347,\n",
       "        7.53530093,  8.11225647,  8.77590377,  5.30315522,  6.24169495,\n",
       "        8.75511208,  7.95208404,  7.64600183,  9.61358482,  8.76528654,\n",
       "        9.20854763, 10.02869582,  8.83079619,  9.44840806, 10.02742403])"
      ]
     },
     "execution_count": 54,
     "metadata": {},
     "output_type": "execute_result"
    }
   ],
   "source": [
    "# Classical GLM\n",
    "y = np.log(counts / size_factors + 0.1)\n",
    "y"
   ]
  },
  {
   "cell_type": "code",
   "execution_count": 14,
   "id": "9e2d0496-ef8e-45e1-811e-617f27046ae2",
   "metadata": {},
   "outputs": [
    {
     "data": {
      "text/plain": [
       "array([6.87565277, 1.20850591])"
      ]
     },
     "execution_count": 14,
     "metadata": {},
     "output_type": "execute_result"
    }
   ],
   "source": [
    "beta_init = solve(R, Q.T @ y)\n",
    "beta = beta_init\n",
    "beta"
   ]
  },
  {
   "cell_type": "code",
   "execution_count": 18,
   "id": "fa5ca22f-22c2-440e-9727-d21d9b00f311",
   "metadata": {},
   "outputs": [
    {
     "data": {
      "text/plain": [
       "array([[1.e-06, 0.e+00],\n",
       "       [0.e+00, 1.e-06]])"
      ]
     },
     "execution_count": 18,
     "metadata": {},
     "output_type": "execute_result"
    }
   ],
   "source": [
    "ridge_factor = np.diag(np.repeat(1e-6, num_vars))\n",
    "ridge_factor"
   ]
  },
  {
   "cell_type": "code",
   "execution_count": 19,
   "id": "a9280f86-20c4-4d86-9a59-cfbfffbcd0d7",
   "metadata": {},
   "outputs": [
    {
     "data": {
      "text/plain": [
       "array([1132.55907365, 1052.05121024, 1113.78791192, 1156.62115775,\n",
       "       1053.54892961, 1139.6020482 , 1128.98745194,  752.90062585,\n",
       "       1137.77179713,  882.3782223 , 2911.96042483, 3437.96640166,\n",
       "       2936.32733105, 3038.94710479, 2552.53544953, 3237.49656013,\n",
       "       3491.6633141 , 3236.2294788 , 2587.69137086, 3430.50467889])"
      ]
     },
     "execution_count": 19,
     "metadata": {},
     "output_type": "execute_result"
    }
   ],
   "source": [
    "# Classical model\n",
    "min_mu = 0.5\n",
    "mu = np.maximum(size_factors * np.exp(X @ beta), min_mu)\n",
    "mu"
   ]
  },
  {
   "cell_type": "code",
   "execution_count": 20,
   "id": "3639e66f-48d7-47af-97c9-811a4ad27a26",
   "metadata": {},
   "outputs": [
    {
     "data": {
      "text/plain": [
       "array([0.74287877, 0.74284148, 0.74287056, 0.74288891, 0.74284223,\n",
       "       0.74288178, 0.74287723, 0.74263314, 0.742881  , 0.74274064,\n",
       "       0.74317665, 0.74320567, 0.74317822, 0.74318457, 0.74314994,\n",
       "       0.74319572, 0.74320814, 0.74319565, 0.74315288, 0.74320532])"
      ]
     },
     "execution_count": 20,
     "metadata": {},
     "output_type": "execute_result"
    }
   ],
   "source": [
    "# Analitical IRLS algorithm calculations check\n",
    "W = mu / (1.0 + mu * disp)\n",
    "W"
   ]
  },
  {
   "cell_type": "code",
   "execution_count": 21,
   "id": "b0312670-eb1a-4484-b5d1-054ee01a1ffb",
   "metadata": {},
   "outputs": [
    {
     "data": {
      "text/plain": [
       "array([7.9108667 , 9.01428325, 8.94625532, 7.09904384, 6.45274984,\n",
       "       6.04413263, 6.08646113, 9.02480675, 7.14216333, 6.38450486,\n",
       "       9.22292401, 9.65835486, 7.53574321, 8.13978745, 7.87161101,\n",
       "       8.74423766, 8.25666577, 7.6972178 , 7.42268437, 8.28150437])"
      ]
     },
     "execution_count": 21,
     "metadata": {},
     "output_type": "execute_result"
    }
   ],
   "source": [
    "z = np.log(mu / size_factors) + (counts - mu) / mu\n",
    "z"
   ]
  },
  {
   "cell_type": "code",
   "execution_count": 22,
   "id": "f7da2b43-2dad-4905-960d-84e4391c2579",
   "metadata": {},
   "outputs": [
    {
     "data": {
      "text/plain": [
       "array([[14.86018949,  7.43185276],\n",
       "       [ 7.43185276,  7.43185376]])"
      ]
     },
     "execution_count": 22,
     "metadata": {},
     "output_type": "execute_result"
    }
   ],
   "source": [
    "H = (X.T * W) @ X + ridge_factor\n",
    "H"
   ]
  },
  {
   "cell_type": "code",
   "execution_count": 23,
   "id": "fd016335-3c08-4811-b7cf-bfd8e11bf425",
   "metadata": {},
   "outputs": [
    {
     "data": {
      "text/plain": [
       "array([7.41048576, 0.87259603])"
      ]
     },
     "execution_count": 23,
     "metadata": {},
     "output_type": "execute_result"
    }
   ],
   "source": [
    "beta_hat = solve(H, X.T @ (W * z), assume_a=\"pos\")\n",
    "beta_hat"
   ]
  },
  {
   "cell_type": "markdown",
   "id": "58497fc3-85fb-439c-9331-45907570b124",
   "metadata": {},
   "source": [
    "### CN normalized model"
   ]
  },
  {
   "cell_type": "code",
   "execution_count": 173,
   "id": "22d77a96-5af8-4765-affd-c3d42ea28d55",
   "metadata": {},
   "outputs": [
    {
     "data": {
      "text/plain": [
       "array([6.893208  , 7.10323084, 7.59211192, 6.38430096, 5.6331186 ,\n",
       "       4.69016757, 4.62667901, 7.329705  , 6.70657548, 5.28427134,\n",
       "       8.84440181, 9.02970798, 7.28923426, 8.13832447, 7.8452454 ,\n",
       "       8.59104244, 8.24332925, 7.59491508, 7.00109447, 8.26429162])"
      ]
     },
     "execution_count": 173,
     "metadata": {},
     "output_type": "execute_result"
    }
   ],
   "source": [
    "#cn = np.log(cnv)\n",
    "# CN-informed GLM\n",
    "counts_init = counts/cnv # divide counts_tumor by cn_tumor & counts_normal by cn_normal only for inizialization \n",
    "y = np.log(counts_init / size_factors + 0.1)\n",
    "y"
   ]
  },
  {
   "cell_type": "code",
   "execution_count": 174,
   "id": "3c4428f4-cc1a-4a7e-9846-d9285eec7cf9",
   "metadata": {},
   "outputs": [
    {
     "data": {
      "text/plain": [
       "array([[1, 1, 1, 1, 1, 1, 1, 1, 1, 1, 1, 1, 1, 1, 1, 1, 1, 1, 1, 1],\n",
       "       [0, 0, 0, 0, 0, 0, 0, 0, 0, 0, 1, 1, 1, 1, 1, 1, 1, 1, 1, 1]])"
      ]
     },
     "execution_count": 174,
     "metadata": {},
     "output_type": "execute_result"
    }
   ],
   "source": [
    "X_t = X.T\n",
    "X_t"
   ]
  },
  {
   "cell_type": "code",
   "execution_count": 205,
   "id": "63e2a2ff-509d-4ff9-9127-3cfac0027b0e",
   "metadata": {},
   "outputs": [],
   "source": [
    "#cnv = [4, 5, 3, 4, 4, 3, 4, 4, 3, 5, 2, 2, 2, 2, 2, 2, 2, 2, 2, 2]\n",
    "#cnv = np.array(cnv)\n",
    "#cnv = cnv/2\n",
    "#cnv"
   ]
  },
  {
   "cell_type": "code",
   "execution_count": 181,
   "id": "d10cb66b-bfe9-443c-9f3a-7710f47cd7c5",
   "metadata": {},
   "outputs": [
    {
     "data": {
      "text/plain": [
       "array([1.09677848e+06, 3.17047232e+07, 3.46602370e+04, 1.12008038e+06,\n",
       "       1.02026448e+06, 3.54635534e+04, 1.09331970e+06, 7.29114466e+05,\n",
       "       3.54065974e+04, 2.65914406e+07, 2.91196042e+03, 3.43796640e+03,\n",
       "       2.93632733e+03, 3.03894710e+03, 2.55253545e+03, 3.23749656e+03,\n",
       "       3.49166331e+03, 3.23622948e+03, 2.58769137e+03, 3.43050468e+03])"
      ]
     },
     "execution_count": 181,
     "metadata": {},
     "output_type": "execute_result"
    }
   ],
   "source": [
    "min_mu = 0.5\n",
    "mu = np.maximum(size_factors * cnv * np.exp(X_t[0] * beta[0] + X_t[1] * beta[1]), min_mu) #modificare ordine del cnv\n",
    "mu # controllare se devo passare log(cn) \n",
    "# passare +log(CN)"
   ]
  },
  {
   "cell_type": "code",
   "execution_count": 182,
   "id": "e3f1347b-b5d5-4ba8-902f-e815940e047c",
   "metadata": {},
   "outputs": [
    {
     "data": {
      "text/plain": [
       "array([0.74336586, 0.74336635, 0.74335042, 0.74336587, 0.74336582,\n",
       "       0.74335078, 0.74336586, 0.74336561, 0.74335076, 0.74336635,\n",
       "       0.74317665, 0.74320567, 0.74317822, 0.74318457, 0.74314994,\n",
       "       0.74319572, 0.74320814, 0.74319565, 0.74315288, 0.74320532])"
      ]
     },
     "execution_count": 182,
     "metadata": {},
     "output_type": "execute_result"
    }
   ],
   "source": [
    "W = mu / (1.0 + mu * disp)\n",
    "W"
   ]
  },
  {
   "cell_type": "code",
   "execution_count": 183,
   "id": "5e320120-770c-4f5e-a0cc-e1875d0a999c",
   "metadata": {},
   "outputs": [
    {
     "data": {
      "text/plain": [
       "array([12.75340715, 16.18923607,  9.4121513 , 12.75256884, 12.75190146,\n",
       "        9.31889316, 12.75152322, 12.75455743,  9.35417778, 16.18914881,\n",
       "        9.22292401,  9.65835486,  7.53574321,  8.13978745,  7.87161101,\n",
       "        8.74423766,  8.25666577,  7.6972178 ,  7.42268437,  8.28150437])"
      ]
     },
     "execution_count": 183,
     "metadata": {},
     "output_type": "execute_result"
    }
   ],
   "source": [
    "z = np.log(mu / size_factors) + (counts - mu) / mu\n",
    "z"
   ]
  },
  {
   "cell_type": "code",
   "execution_count": 184,
   "id": "9cb3c87e-fba6-42e2-9cd7-5f0ff53e727d",
   "metadata": {},
   "outputs": [
    {
     "data": {
      "text/plain": [
       "array([[14.86546745,  7.43185276],\n",
       "       [ 7.43185276,  7.43185376]])"
      ]
     },
     "execution_count": 184,
     "metadata": {},
     "output_type": "execute_result"
    }
   ],
   "source": [
    "H = (X.T * W) @ X + ridge_factor\n",
    "H"
   ]
  },
  {
   "cell_type": "code",
   "execution_count": 185,
   "id": "8fc01156-b9a5-4304-8ed1-c133e1986625",
   "metadata": {},
   "outputs": [
    {
     "data": {
      "text/plain": [
       "array([12.42277355, -4.13969109])"
      ]
     },
     "execution_count": 185,
     "metadata": {},
     "output_type": "execute_result"
    }
   ],
   "source": [
    "beta_hat = solve(H, X.T @ (W * z), assume_a=\"pos\")\n",
    "beta_hat"
   ]
  },
  {
   "cell_type": "markdown",
   "id": "9eb22471-a572-4fbd-b624-c959c888e575",
   "metadata": {},
   "source": [
    "### Test GLM"
   ]
  },
  {
   "cell_type": "code",
   "execution_count": 32,
   "id": "b864c281-3485-4997-aeee-e71a9d8a939e",
   "metadata": {},
   "outputs": [],
   "source": [
    "def nb_nll(\n",
    "    counts: np.ndarray, mu: np.ndarray, alpha: Union[float, np.ndarray]\n",
    ") -> Union[float, np.ndarray]:\n",
    "    n = len(counts)\n",
    "    alpha_neg1 = 1 / alpha\n",
    "    logbinom = gammaln(counts + alpha_neg1) - gammaln(counts + 1) - gammaln(alpha_neg1)\n",
    "    if hasattr(alpha, \"__len__\") and len(alpha) > 1:\n",
    "        return (\n",
    "            alpha_neg1 * np.log(alpha)\n",
    "            - logbinom\n",
    "            + (counts + alpha_neg1) * np.log(mu + alpha_neg1)\n",
    "            - (counts * np.log(mu))\n",
    "        ).sum(0)\n",
    "    else:\n",
    "        return (\n",
    "            n * alpha_neg1 * np.log(alpha)\n",
    "            + (\n",
    "                -logbinom\n",
    "                + (counts + alpha_neg1) * np.log(alpha_neg1 + mu)\n",
    "                - counts * np.log(mu)\n",
    "            ).sum()\n",
    "        )"
   ]
  },
  {
   "cell_type": "code",
   "execution_count": 33,
   "id": "29187bed-f7a7-4656-bcbe-a77226cac4a5",
   "metadata": {},
   "outputs": [],
   "source": [
    "def vec_nb_nll(counts: np.ndarray, mu: np.ndarray, alpha: np.ndarray) -> np.ndarray:\n",
    "    n = len(counts)\n",
    "    alpha_neg1 = 1 / alpha\n",
    "    logbinom = (\n",
    "        gammaln(counts[:, None] + alpha_neg1)\n",
    "        - gammaln(counts + 1)[:, None]\n",
    "        - gammaln(alpha_neg1)\n",
    "    )\n",
    "\n",
    "    if len(mu.shape) == 1:\n",
    "        return n * alpha_neg1 * np.log(alpha) + (\n",
    "            -logbinom\n",
    "            + (counts[:, None] + alpha_neg1) * np.log(mu[:, None] + alpha_neg1)\n",
    "            - (counts * np.log(mu))[:, None]\n",
    "        ).sum(0)\n",
    "    else:\n",
    "        return n * alpha_neg1 * np.log(alpha) + (\n",
    "            -logbinom\n",
    "            + (counts[:, None] + alpha_neg1) * np.log(mu + alpha_neg1)\n",
    "            - (counts[:, None] * np.log(mu))\n",
    "        ).sum(0)"
   ]
  },
  {
   "cell_type": "code",
   "execution_count": 34,
   "id": "2dce2dc4-eb75-4088-ab5e-9429e6d74469",
   "metadata": {},
   "outputs": [],
   "source": [
    "def grid_fit_beta(\n",
    "    counts: np.ndarray,\n",
    "    size_factors: np.ndarray,\n",
    "    cnv: np.ndarray,\n",
    "    design_matrix: np.ndarray,\n",
    "    disp: float,\n",
    "    min_mu: float = 0.5,\n",
    "    grid_length: int = 60,\n",
    "    min_beta: float = -30,\n",
    "    max_beta: float = 30,\n",
    ") -> np.ndarray:\n",
    "    x_grid = np.linspace(min_beta, max_beta, grid_length)\n",
    "    y_grid = np.linspace(min_beta, max_beta, grid_length)\n",
    "    ll_grid = np.zeros((grid_length, grid_length))\n",
    "\n",
    "    def loss(beta: np.ndarray) -> np.ndarray:\n",
    "        # closure to minimize\n",
    "        design_matrix_t = design_matrix.T\n",
    "        mu = np.maximum(size_factors[:, None] * np.exp(design_matrix_t[0] * beta[0] + design_matrix_t[1] * beta[1]), min_mu)\n",
    "        #mu = np.maximum(size_factors[:, None] * np.exp(design_matrix @ beta), min_mu)\n",
    "        return vec_nb_nll(counts, mu, disp) + 0.5 * (1e-6 * beta**2).sum(1)\n",
    "\n",
    "    for i, x in enumerate(x_grid):\n",
    "        ll_grid[i, :] = loss(np.array([[x, y] for y in y_grid]))\n",
    "\n",
    "    min_idxs = np.unravel_index(np.argmin(ll_grid, axis=None), ll_grid.shape)\n",
    "    delta = x_grid[1] - x_grid[0]\n",
    "\n",
    "    fine_x_grid = np.linspace(\n",
    "        x_grid[min_idxs[0]] - delta, x_grid[min_idxs[0]] + delta, grid_length\n",
    "    )\n",
    "\n",
    "    fine_y_grid = np.linspace(\n",
    "        y_grid[min_idxs[1]] - delta,\n",
    "        y_grid[min_idxs[1]] + delta,\n",
    "        grid_length,\n",
    "    )\n",
    "\n",
    "    for i, x in enumerate(fine_x_grid):\n",
    "        ll_grid[i, :] = loss(np.array([[x, y] for y in fine_y_grid]))\n",
    "\n",
    "    min_idxs = np.unravel_index(np.argmin(ll_grid, axis=None), ll_grid.shape)\n",
    "    beta = np.array([fine_x_grid[min_idxs[0]], fine_y_grid[min_idxs[1]]])\n",
    "    return beta"
   ]
  },
  {
   "cell_type": "code",
   "execution_count": 35,
   "id": "0ce412cc-7504-4a2c-a638-a226a7f5d55c",
   "metadata": {},
   "outputs": [
    {
     "data": {
      "text/plain": [
       "array([1.00001, 1.00001, 1.00001, 1.00001, 1.00001, 1.00001, 1.00001,\n",
       "       1.00001, 1.00001, 1.00001, 2.00001, 2.50001, 1.50001, 3.50001,\n",
       "       2.00001, 4.00001, 3.00001, 2.00001, 3.00001, 2.50001])"
      ]
     },
     "execution_count": 35,
     "metadata": {},
     "output_type": "execute_result"
    }
   ],
   "source": [
    "cnv"
   ]
  },
  {
   "cell_type": "code",
   "execution_count": null,
   "id": "590e174b-8397-4f1f-b430-ad243fbe9cb0",
   "metadata": {},
   "outputs": [],
   "source": []
  },
  {
   "cell_type": "code",
   "execution_count": 36,
   "id": "637a6e6d-92f3-4c04-b602-aece84c85ec0",
   "metadata": {},
   "outputs": [],
   "source": [
    "def irls_solver(\n",
    "    counts: np.ndarray,\n",
    "    size_factors: np.ndarray,\n",
    "    design_matrix: np.ndarray,\n",
    "    cnv: np.ndarray,\n",
    "    disp: float,\n",
    "    min_mu: float = 0.5,\n",
    "    beta_tol: float = 1e-8,\n",
    "    min_beta: float = -30,\n",
    "    max_beta: float = 30,\n",
    "    optimizer: Literal[\"BFGS\", \"L-BFGS-B\"] = \"L-BFGS-B\",\n",
    "    maxiter: int = 250,\n",
    ") -> Tuple[np.ndarray, np.ndarray, np.ndarray, bool]:\n",
    "\n",
    "    assert optimizer in [\"BFGS\", \"L-BFGS-B\"]\n",
    "    \n",
    "    num_vars = design_matrix.shape[1]\n",
    "    X = design_matrix\n",
    "    \n",
    "    # if full rank, estimate initial betas for IRLS below\n",
    "    if np.linalg.matrix_rank(X) == num_vars:\n",
    "        Q, R = np.linalg.qr(X)\n",
    "        offset = size_factors + np.log(cnv)\n",
    "        y = np.log(counts / offset + 0.1)\n",
    "        #y = np.log(counts / size_factors + 0.1)\n",
    "        beta_init = solve(R, Q.T @ y)\n",
    "        beta = beta_init\n",
    "\n",
    "    else:  # Initialise intercept with log base mean\n",
    "        beta_init = np.zeros(num_vars)\n",
    "        beta_init[0] = np.log(counts / offset).mean()\n",
    "        #beta_init[0] = np.log(counts / size_factors).mean()\n",
    "        beta = beta_init\n",
    "        \n",
    "    dev = 1000.0\n",
    "    dev_ratio = 1.0\n",
    "\n",
    "    ridge_factor = np.diag(np.repeat(1e-6, num_vars))\n",
    "    #mu = np.maximum(size_factors * np.exp(X @ beta), min_mu)\n",
    "\n",
    "    X_t = X.T\n",
    "    #mu = np.maximum(size_factors * np.exp(X_t[0] * beta[0] * cnv + X_t[1] * beta[1]), min_mu)\n",
    "    mu = np.maximum(offset * np.exp(X @ beta), min_mu)\n",
    "    \n",
    "    converged = True\n",
    "    i = 0\n",
    "    while dev_ratio > beta_tol:\n",
    "        W = mu / (1.0 + mu * disp)\n",
    "        z = np.log(mu / offset) + (counts - mu) / mu\n",
    "        #z = np.log(mu / size_factors) + (counts - mu) / mu\n",
    "        H = (X.T * W) @ X + ridge_factor\n",
    "        beta_hat = solve(H, X.T @ (W * z), assume_a=\"pos\")\n",
    "        i += 1\n",
    "\n",
    "        if sum(np.abs(beta_hat) > max_beta) > 0 or i >= maxiter:\n",
    "            # If IRLS starts diverging, use L-BFGS-B\n",
    "            def f(beta: np.ndarray) -> float:\n",
    "                # closure to minimize\n",
    "                mu_ = np.maximum(offset * np.exp(X @ beta), min_mu)\n",
    "                #mu_ = np.maximum(size_factors * np.exp(X_t[0] * beta[0] * cnv + X_t[1] * beta[1]), min_mu)\n",
    "                #mu_ = np.maximum(size_factors * np.exp(X @ beta), min_mu)\n",
    "                \n",
    "                return nb_nll(counts, mu_, disp) + 0.5 * (ridge_factor @ beta**2).sum()\n",
    "\n",
    "            def df(beta: np.ndarray) -> np.ndarray:\n",
    "                mu_ = np.maximum(offset * np.exp(X @ beta), min_mu)\n",
    "                #mu_ = np.maximum(size_factors * np.exp(X_t[0] * beta[0] * cnv + X_t[1] * beta[1]), min_mu)\n",
    "                #mu_ = np.maximum(size_factors * np.exp(X @ beta), min_mu)\n",
    "                return (\n",
    "                    -X.T @ counts\n",
    "                    + ((1 / disp + counts) * mu_ / (1 / disp + mu_)) @ X\n",
    "                    + ridge_factor @ beta\n",
    "                )\n",
    "\n",
    "            res = minimize(\n",
    "                f,\n",
    "                beta_init,\n",
    "                jac=df,\n",
    "                method=optimizer,\n",
    "                bounds=(\n",
    "                    [(min_beta, max_beta)] * num_vars\n",
    "                    if optimizer == \"L-BFGS-B\"\n",
    "                    else None\n",
    "                ),\n",
    "            )\n",
    "\n",
    "            beta = res.x\n",
    "            #mu = np.maximum(offset * np.exp(X @ beta), min_mu)\n",
    "            #mu = np.maximum(size_factors * np.exp(X_t[0] * beta[0] * cnv + X_t[1] * beta[1]), min_mu)\n",
    "            mu = np.maximum(size_factors * np.exp(X @ beta), min_mu)\n",
    "            converged = res.success\n",
    "\n",
    "            if not res.success and num_vars <= 2:\n",
    "                beta = grid_fit_beta(\n",
    "                    counts,\n",
    "                    size_factors,\n",
    "                    X,\n",
    "                    disp,\n",
    "                )\n",
    "                #mu = np.maximum(size_factors * np.exp(X @ beta), min_mu\n",
    "                mu = np.maximum(size_factors * np.exp(X_t[0] * beta[0] + X_t[1] * beta[1]), min_mu) \n",
    "            break\n",
    "\n",
    "        beta = beta_hat\n",
    "        mu = np.maximum(offset * np.exp(X @ beta), min_mu)\n",
    "        #mu = np.maximum(size_factors * np.exp(X_t[0] * beta[0] * cnv + X_t[1] * beta[1]), min_mu)\n",
    "        #mu = np.maximum(size_factors * np.exp(X @ beta), min_mu)\n",
    "        # Compute deviation\n",
    "        old_dev = dev\n",
    "        # Replaced deviation with -2 * nll, as in the R code\n",
    "        dev = -2 * nb_nll(counts, mu, disp)\n",
    "        dev_ratio = np.abs(dev - old_dev) / (np.abs(dev) + 0.1)\n",
    "\n",
    "    # Compute H diagonal (useful for Cook distance outlier filtering)\n",
    "    W = mu / (1.0 + mu * disp)\n",
    "    W_sq = np.sqrt(W)\n",
    "    XtWX = (X.T * W) @ X + ridge_factor\n",
    "    H = W_sq * np.diag(X @ np.linalg.inv(XtWX) @ X.T) * W_sq\n",
    "    # Return an UNthresholded mu (as in the R code)\n",
    "    # Previous quantities are estimated with a threshold though\n",
    "    mu = offset * np.exp(X @ beta)\n",
    "    #mu = size_factors * np.exp(X_t[0] * beta[0] * cnv + X_t[1] * beta[1])\n",
    "    #mu = size_factors * np.exp(X @ beta)\n",
    "\n",
    "    print(\"Beta parameters:\", beta), \n",
    "    print(\"Estimated mean:\", np.array(mu)), \n",
    "    print(\"H:\", np.array(H)),\n",
    "    print(\"Convergence:\", converged)\n",
    "    \n",
    "    return beta, mu, H, converged"
   ]
  },
  {
   "cell_type": "code",
   "execution_count": 56,
   "id": "c9ef66e7-1960-4b96-817d-24443018fe2b",
   "metadata": {},
   "outputs": [
    {
     "name": "stdout",
     "output_type": "stream",
     "text": [
      "Beta parameters: [7.42819011 1.85418179]\n",
      "Estimated mean: [ 1967.99858081  1828.10357256  1935.38075053  2009.81021647\n",
      "  1830.70609429  1980.23685096  1961.79232929  1308.2826297\n",
      "  1977.05650339  1533.27021047  9650.78978847 11394.07347687\n",
      "  9731.54634261 10071.64775884  8459.58717055 10729.67835561\n",
      " 11572.035241   10725.47900749  8576.10056945 11369.34391072]\n",
      "H: [0.10000348 0.10000059 0.10000284 0.10000426 0.10000064 0.10000371\n",
      " 0.10000336 0.09998444 0.10000365 0.09999277 0.09999964 0.10000081\n",
      " 0.0999997  0.09999996 0.09999855 0.10000041 0.10000091 0.10000041\n",
      " 0.09999867 0.1000008 ]\n",
      "Convergence: True\n"
     ]
    },
    {
     "data": {
      "text/plain": [
       "(array([7.42819011, 1.85418179]),\n",
       " array([ 1967.99858081,  1828.10357256,  1935.38075053,  2009.81021647,\n",
       "         1830.70609429,  1980.23685096,  1961.79232929,  1308.2826297 ,\n",
       "         1977.05650339,  1533.27021047,  9650.78978847, 11394.07347687,\n",
       "         9731.54634261, 10071.64775884,  8459.58717055, 10729.67835561,\n",
       "        11572.035241  , 10725.47900749,  8576.10056945, 11369.34391072]),\n",
       " array([0.10000348, 0.10000059, 0.10000284, 0.10000426, 0.10000064,\n",
       "        0.10000371, 0.10000336, 0.09998444, 0.10000365, 0.09999277,\n",
       "        0.09999964, 0.10000081, 0.0999997 , 0.09999996, 0.09999855,\n",
       "        0.10000041, 0.10000091, 0.10000041, 0.09999867, 0.1000008 ]),\n",
       " True)"
      ]
     },
     "execution_count": 56,
     "metadata": {},
     "output_type": "execute_result"
    }
   ],
   "source": [
    "# Classical GLM\n",
    "irls_solver(counts, size_factors, design_matrix, disp)"
   ]
  },
  {
   "cell_type": "code",
   "execution_count": 37,
   "id": "d72dcb23-bbf9-42dd-8931-0587a385f4d9",
   "metadata": {},
   "outputs": [
    {
     "name": "stdout",
     "output_type": "stream",
     "text": [
      "Beta parameters: [7.42812371 0.27144301]\n",
      "Estimated mean: [1967.88474121 1827.99902134 1935.26907659 2009.69360077 1830.60137027\n",
      " 1980.12219879 1961.67890175 1308.21259218 1976.94206237 1533.18523481\n",
      " 3512.31212302 4362.94223821 2893.87612598 4834.04187735 3267.6413555\n",
      " 5263.95537222 4801.94880507 3733.0512585  4186.58948289 4357.86283204]\n",
      "H: [0.10000779 0.10000135 0.10000637 0.10000954 0.10000148 0.10000831\n",
      " 0.10000752 0.0999654  0.10000817 0.09998395 0.09999436 0.10000355\n",
      " 0.09998429 0.10000725 0.09999083 0.10001004 0.10000702 0.09999715\n",
      " 0.10000195 0.1000035 ]\n",
      "Convergence: True\n"
     ]
    },
    {
     "data": {
      "text/plain": [
       "(array([7.42812371, 0.27144301]),\n",
       " array([1967.88474121, 1827.99902134, 1935.26907659, 2009.69360077,\n",
       "        1830.60137027, 1980.12219879, 1961.67890175, 1308.21259218,\n",
       "        1976.94206237, 1533.18523481, 3512.31212302, 4362.94223821,\n",
       "        2893.87612598, 4834.04187735, 3267.6413555 , 5263.95537222,\n",
       "        4801.94880507, 3733.0512585 , 4186.58948289, 4357.86283204]),\n",
       " array([0.10000779, 0.10000135, 0.10000637, 0.10000954, 0.10000148,\n",
       "        0.10000831, 0.10000752, 0.0999654 , 0.10000817, 0.09998395,\n",
       "        0.09999436, 0.10000355, 0.09998429, 0.10000725, 0.09999083,\n",
       "        0.10001004, 0.10000702, 0.09999715, 0.10000195, 0.1000035 ]),\n",
       " True)"
      ]
     },
     "execution_count": 37,
     "metadata": {},
     "output_type": "execute_result"
    }
   ],
   "source": [
    "# CN normalized GLM\n",
    "irls_solver(counts, size_factors, design_matrix, cnv, disp)"
   ]
  },
  {
   "cell_type": "code",
   "execution_count": null,
   "id": "fa182573-d781-456b-b199-70d7080e15b1",
   "metadata": {},
   "outputs": [],
   "source": []
  }
 ],
 "metadata": {
  "kernelspec": {
   "display_name": "Python 3 (ipykernel)",
   "language": "python",
   "name": "python3"
  },
  "language_info": {
   "codemirror_mode": {
    "name": "ipython",
    "version": 3
   },
   "file_extension": ".py",
   "mimetype": "text/x-python",
   "name": "python",
   "nbconvert_exporter": "python",
   "pygments_lexer": "ipython3",
   "version": "3.11.7"
  }
 },
 "nbformat": 4,
 "nbformat_minor": 5
}
