{
 "cells": [
  {
   "cell_type": "code",
   "execution_count": 1,
   "id": "8972c233-8bd3-4152-bbe9-21edb9a0a92a",
   "metadata": {},
   "outputs": [],
   "source": [
    "import os\n",
    "import pickle as pkl\n",
    "import pandas as pd\n",
    "import numpy as np\n",
    "\n",
    "from pydeseq2.utils import build_design_matrix\n",
    "#from pydeseq2.dds import DeseqDataSet\n",
    "#from pydeseq2.default_inference import DefaultInference\n",
    "#from pydeseq2.ds import DeseqStats"
   ]
  },
  {
   "cell_type": "code",
   "execution_count": null,
   "id": "74942ce3-49ab-4755-b5a2-0ee76e016654",
   "metadata": {},
   "outputs": [],
   "source": [
    "from dds import pydeseq2CN_data\n",
    "from inference import Inference\n",
    "from def_inference import DefInference\n",
    "import utils_CNaware\n",
    "\n",
    "import dds_stat\n",
    "from dds_stat import pydeseq2CN_Stats"
   ]
  },
  {
   "cell_type": "code",
   "execution_count": null,
   "id": "cca1bdf7-7aa8-4b57-906f-5f0157a48c34",
   "metadata": {},
   "outputs": [],
   "source": [
    "# Test simulated data\n",
    "#DATA_PATH = \"/Users/katsiarynadavydzenka/Documents/PhD_AI/CN-aware-DGE/Python/datasets/\"\n",
    "#counts_df = pd.read_csv(os.path.join(DATA_PATH, \"rna_counts_cnv_v2.csv\"), index_col=0)\n",
    "#counts_df = counts_df.T\n",
    "#metadata = pd.read_csv(os.path.join(DATA_PATH, \"metadata_v2.csv\"), index_col=0)\n",
    "#cnv = pd.read_csv(os.path.join(DATA_PATH, \"cnv_v2.csv\"), index_col=0)\n",
    "#cnv = cnv.T"
   ]
  },
  {
   "cell_type": "code",
   "execution_count": null,
   "id": "19f25849-9c34-40ea-9164-2e324190d266",
   "metadata": {},
   "outputs": [],
   "source": [
    "# Test real data\n",
    "DATA_PATH = \"/Users/katsiarynadavydzenka/Documents/PhD_AI/TCGA/colon/test\"\n",
    "counts_df = pd.read_csv(os.path.join(DATA_PATH, \"rna_test_all_genes.csv\"), index_col=0)\n",
    "counts_df = counts_df.T\n",
    "metadata = pd.read_csv(os.path.join(DATA_PATH, \"metadata_all_genes.csv\"), index_col=0)\n",
    "cnv = pd.read_csv(os.path.join(DATA_PATH, \"cnv_test_all_genes.csv\"), index_col=0)\n",
    "cnv = cnv.T"
   ]
  },
  {
   "cell_type": "code",
   "execution_count": null,
   "id": "1aed943c-8c6b-4b5e-bd13-ec402bdd3cc2",
   "metadata": {},
   "outputs": [],
   "source": [
    "inference = DefInference(n_cpus=8)\n",
    "dds = pydeseq2CN_data(\n",
    "    counts=counts_df,\n",
    "    metadata=metadata,\n",
    "    cnv=cnv,\n",
    "    design_factors=\"condition\",\n",
    "    inference=inference,\n",
    "    refit_cooks=True\n",
    ")\n",
    "dds.fit_size_factors()\n",
    "dds.fit_genewise_dispersions()\n",
    "dds.fit_dispersion_trend()\n",
    "dds.fit_dispersion_prior()\n",
    "dds.fit_MAP_dispersions()\n",
    "dds.fit_LFC()\n",
    "\n",
    "dds.calculate_cooks()\n",
    "if dds.refit_cooks:\n",
    "    # Replace outlier counts\n",
    "    dds.refit()\n",
    "    \n",
    "# Statistical analysis\n",
    "stat_res = pydeseq2CN_Stats(dds, \n",
    "                            alpha=0.05, \n",
    "                            independent_filter=True, \n",
    "                            cooks_filter=True)\n",
    "stat_res.run_wald_test()\n",
    "\n",
    "if stat_res.independent_filter:\n",
    "    stat_res._independent_filtering()\n",
    "else:\n",
    "    stat_res._p_value_adjustment()\n",
    "\n",
    "stat_res.lfc_shrink(coeff=\"condition_B_vs_A\")\n",
    "stat_res.summary()\n",
    "\n",
    "OUTPUT_PATH = \"/Users/katsiarynadavydzenka/Documents/PhD_AI/CN-aware-DGE/Python/results/COAD\"\n",
    "os.makedirs(OUTPUT_PATH, exist_ok=True)  # Create path if it doesn't exist\n",
    "stat_res.results_df.to_csv(os.path.join(OUTPUT_PATH, \"res_CNaware_all_genes.csv\"))"
   ]
  },
  {
   "cell_type": "code",
   "execution_count": null,
   "id": "0df6ba11-e21a-4f7e-bc54-be7a1a56475a",
   "metadata": {},
   "outputs": [],
   "source": [
    "stat_res.plot_MA(s=10)"
   ]
  }
 ],
 "metadata": {
  "kernelspec": {
   "display_name": "Python 3 (ipykernel)",
   "language": "python",
   "name": "python3"
  },
  "language_info": {
   "codemirror_mode": {
    "name": "ipython",
    "version": 3
   },
   "file_extension": ".py",
   "mimetype": "text/x-python",
   "name": "python",
   "nbconvert_exporter": "python",
   "pygments_lexer": "ipython3",
   "version": "3.11.7"
  }
 },
 "nbformat": 4,
 "nbformat_minor": 5
}
