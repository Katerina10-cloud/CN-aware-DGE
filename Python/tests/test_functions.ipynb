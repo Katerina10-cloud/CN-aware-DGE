{
 "cells": [
  {
   "cell_type": "markdown",
   "id": "86e67307-620e-4778-a155-e682e688cd2b",
   "metadata": {},
   "source": [
    "#### Generate CN corrected RNA counts matrix"
   ]
  },
  {
   "cell_type": "code",
   "execution_count": 138,
   "id": "3a5b559b-33de-40fd-bb3b-9d1b850767cd",
   "metadata": {},
   "outputs": [],
   "source": [
    "import random\n",
    "\n",
    "def create_matrix(rows, cols, min_val, max_val):\n",
    "    return [[random.randint(min_val, max_val) for _ in range(cols)] for _ in range(rows)]"
   ]
  },
  {
   "cell_type": "code",
   "execution_count": 139,
   "id": "08f220b1-7108-46fb-aca0-67b40ff4d505",
   "metadata": {},
   "outputs": [],
   "source": [
    "def rna_cnv_count_matrix(rna_counts, cnv_tumor):\n",
    "    cnv_normal_mat = create_matrix(19979, 45, 2, 2)\n",
    "    cnv_normal_mat= np.array(cnv_normal)\n",
    "    cnv_tumor_mat = np.array(cnv_tumor)\n",
    "    cnv = np.concatenate((cnv_tumor_mat, cnv_normal_mat), axis=1) \n",
    "    cnv = cnv/2\n",
    "\n",
    "    counts_mat = np.array(rna_counts)\n",
    "    rna_counts_cnv = np.multiply(counts_mat, cnv)\n",
    "    rna_counts_cnv = pd.DataFrame(rna_counts_cnv)\n",
    "    \n",
    "    # Reassign rownames and column names\n",
    "    gene_id = rna_counts.index\n",
    "    gene_id = pd.DataFrame(gene_id)\n",
    "    gene_id.rename(columns = {0:'geneID'}, inplace = True) \n",
    "    rna_counts_cnv = pd.concat([gene_id, rna_counts_cnv], axis=1)\n",
    "    rna_counts_cnv.set_index('geneID', inplace = True)\n",
    "    sample_id = rna_counts.columns\n",
    "    rna_counts_cnv.columns = sample_id\n",
    "    rna_counts_cnv = rna_counts_cnv.T\n",
    "\n",
    "    return rna_counts_cnv"
   ]
  },
  {
   "cell_type": "code",
   "execution_count": 140,
   "id": "97dfca70-4a39-470e-be9e-9c6c80f64ca5",
   "metadata": {},
   "outputs": [],
   "source": [
    "rna_counts_cnv = rna_cnv_count_matrix(rna_counts, cnv_tumor)\n"
   ]
  },
  {
   "cell_type": "markdown",
   "id": "8541c2c6-988c-4e0d-8a1d-bcddcc22a457",
   "metadata": {},
   "source": []
  },
  {
   "cell_type": "code",
   "execution_count": 2,
   "id": "c11c3574-91e5-45b5-aa1c-55d3678707a1",
   "metadata": {},
   "outputs": [],
   "source": [
    "import os\n",
    "import pickle as pkl\n",
    "import pandas as pd\n",
    "import numpy as np\n",
    "\n",
    "import pydeseq2\n",
    "from pydeseq2.dds import DeseqDataSet\n",
    "from pydeseq2.default_inference import DefaultInference\n",
    "from pydeseq2.ds import DeseqStats"
   ]
  },
  {
   "cell_type": "markdown",
   "id": "617d3f3e-0269-47be-90f7-efbcf039f713",
   "metadata": {},
   "source": [
    "Load data"
   ]
  },
  {
   "cell_type": "code",
   "execution_count": 3,
   "id": "2cff3117-63d2-4460-8df8-ca6dca5370be",
   "metadata": {},
   "outputs": [
    {
     "data": {
      "text/plain": [
       "(20, 1000)"
      ]
     },
     "execution_count": 3,
     "metadata": {},
     "output_type": "execute_result"
    }
   ],
   "source": [
    "DATA_PATH = \"/Users/katsiarynadavydzenka/Documents/PhD_AI/CN-aware-DGE/Python/datasets/\"\n",
    "counts_df = pd.read_csv(os.path.join(DATA_PATH, \"rna_counts_cnv.csv\"), index_col=0)\n",
    "counts_df = counts_df.T\n",
    "metadata = pd.read_csv(os.path.join(DATA_PATH, \"metadata.csv\"), index_col=0)\n",
    "genes_to_keep = counts_df.columns[counts_df.sum(axis=0) >= 10]\n",
    "counts_df = counts_df[genes_to_keep]\n",
    "counts_df.shape"
   ]
  },
  {
   "cell_type": "markdown",
   "id": "6a755d3c-7428-45c3-a2c7-76e2f25a1528",
   "metadata": {},
   "source": [
    "#### Model fit"
   ]
  },
  {
   "cell_type": "code",
   "execution_count": 4,
   "id": "5266efef-5d84-4377-a341-ac7ccf7aad6e",
   "metadata": {},
   "outputs": [],
   "source": [
    "def test_pydeseq2CN(counts_df, metadata):\n",
    "\n",
    "    inference = DefaultInference(n_cpus=8)\n",
    "    # Create dds object\n",
    "    dds = DeseqDataSet(\n",
    "        counts=counts_df,\n",
    "        metadata=metadata,\n",
    "        design_factors=\"condition\",\n",
    "        refit_cooks=False,\n",
    "        n_cpus=8\n",
    "    )\n",
    "    dds.deseq2()\n",
    "    # Statistical test\n",
    "    stat_res = DeseqStats(dds, \n",
    "                      contrast=['condition', 'B', 'A'], \n",
    "                      alpha=0.05, \n",
    "                      cooks_filter=False, \n",
    "                      independent_filter=True, \n",
    "                      prior_LFC_var=None, \n",
    "                      lfc_null=0, \n",
    "                      alt_hypothesis=None, \n",
    "                      inference=None, quiet=False\n",
    "                         )\n",
    "    stat_res.summary()\n",
    "    # LFC shrinkage (apeGLM) \n",
    "    stat_res.lfc_shrink(coeff=\"condition_B_vs_A\")\n",
    "    res_df = stat_res.results_df\n",
    "    return res_df"
   ]
  },
  {
   "cell_type": "code",
   "execution_count": 5,
   "id": "e9d38e62-c8b4-483e-b88b-6b3e9c212e03",
   "metadata": {},
   "outputs": [
    {
     "name": "stderr",
     "output_type": "stream",
     "text": [
      "Fitting size factors...\n",
      "... done in 0.00 seconds.\n",
      "\n",
      "Fitting dispersions...\n",
      "... done in 0.11 seconds.\n",
      "\n",
      "Fitting dispersion trend curve...\n",
      "... done in 0.02 seconds.\n",
      "\n",
      "Fitting MAP dispersions...\n",
      "... done in 0.12 seconds.\n",
      "\n",
      "Fitting LFCs...\n",
      "... done in 0.08 seconds.\n",
      "\n",
      "Running Wald tests...\n",
      "... done in 0.06 seconds.\n",
      "\n",
      "Fitting MAP LFCs...\n"
     ]
    },
    {
     "name": "stdout",
     "output_type": "stream",
     "text": [
      "Log2 fold change & Wald test p-value: condition B vs A\n",
      "          baseMean  log2FoldChange     lfcSE      stat        pvalue      padj\n",
      "G1     5483.345668       -0.125966  0.407328 -0.309249  7.571323e-01  0.815875\n",
      "G2       53.273471       -0.355742  0.492492 -0.722331  4.700911e-01  0.571192\n",
      "G3       38.940902        0.150874  0.526234  0.286705  7.743380e-01  0.825460\n",
      "G4       43.165640       -1.013502  0.425428 -2.382314  1.720424e-02  0.042639\n",
      "G5       79.037687       -0.239740  0.395948 -0.605484  5.448575e-01  0.636729\n",
      "...            ...             ...       ...       ...           ...       ...\n",
      "G996    448.120920        1.160320  0.324928  3.571007  3.556116e-04  0.002075\n",
      "G997   1593.890327        0.648919  0.292454  2.218874  2.649529e-02  0.059010\n",
      "G998    641.953647        1.538796  0.311258  4.943799  7.661450e-07  0.000018\n",
      "G999    523.254006        0.307257  0.285283  1.077025  2.814691e-01  0.384521\n",
      "G1000   882.841110        0.654288  0.317034  2.063779  3.903864e-02  0.081161\n",
      "\n",
      "[1000 rows x 6 columns]\n",
      "Shrunk log2 fold change & Wald test p-value: condition B vs A\n",
      "          baseMean  log2FoldChange     lfcSE      stat        pvalue      padj\n",
      "G1     5483.345668       -0.075006  0.367772 -0.309249  7.571323e-01  0.815875\n",
      "G2       53.273471       -0.215480  0.432866 -0.722331  4.700911e-01  0.571192\n",
      "G3       38.940902        0.085898  0.449424  0.286705  7.743380e-01  0.825460\n",
      "G4       43.165640       -0.796834  0.424698 -2.382314  1.720424e-02  0.042639\n",
      "G5       79.037687       -0.167336  0.361161 -0.605484  5.448575e-01  0.636729\n",
      "...            ...             ...       ...       ...           ...       ...\n",
      "G996    448.120920        1.026902  0.327322  3.571007  3.556116e-04  0.002075\n",
      "G997   1593.890327        0.531269  0.287859  2.218874  2.649529e-02  0.059010\n",
      "G998    641.953647        1.444810  0.314022  4.943799  7.661450e-07  0.000018\n",
      "G999    523.254006        0.253865  0.273850  1.077025  2.814691e-01  0.384521\n",
      "G1000   882.841110        0.549019  0.311136  2.063779  3.903864e-02  0.081161\n",
      "\n",
      "[1000 rows x 6 columns]\n"
     ]
    },
    {
     "name": "stderr",
     "output_type": "stream",
     "text": [
      "... done in 0.12 seconds.\n",
      "\n"
     ]
    }
   ],
   "source": [
    "res = test_pydeseq2CN(counts_df, metadata)"
   ]
  },
  {
   "cell_type": "markdown",
   "id": "8385ed3e-6706-4beb-9ee1-95c5d4fb7471",
   "metadata": {},
   "source": [
    "#### Save results"
   ]
  },
  {
   "cell_type": "code",
   "execution_count": 84,
   "id": "6282e460-42b5-4633-b2fc-a82e2dc9ce98",
   "metadata": {},
   "outputs": [],
   "source": [
    "# Replace this with the path to directory where you would like results to be saved\n",
    "OUTPUT_PATH = \"/Users/katsiarynadavydzenka/Documents/PhD_AI/CN-aware-DGE/Python/results\"\n",
    "os.makedirs(OUTPUT_PATH, exist_ok=True)  # Create path if it doesn't exist\n",
    "res.to_csv(os.path.join(OUTPUT_PATH, \"res_sim_cnv.csv\"))"
   ]
  }
 ],
 "metadata": {
  "kernelspec": {
   "display_name": "Python 3 (ipykernel)",
   "language": "python",
   "name": "python3"
  },
  "language_info": {
   "codemirror_mode": {
    "name": "ipython",
    "version": 3
   },
   "file_extension": ".py",
   "mimetype": "text/x-python",
   "name": "python",
   "nbconvert_exporter": "python",
   "pygments_lexer": "ipython3",
   "version": "3.11.7"
  }
 },
 "nbformat": 4,
 "nbformat_minor": 5
}
