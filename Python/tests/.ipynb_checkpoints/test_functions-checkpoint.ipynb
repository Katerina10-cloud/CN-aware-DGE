{
 "cells": [
  {
   "cell_type": "markdown",
   "id": "86e67307-620e-4778-a155-e682e688cd2b",
   "metadata": {},
   "source": [
    "#### Generate CN corrected RNA counts matrix"
   ]
  },
  {
   "cell_type": "code",
   "execution_count": 138,
   "id": "3a5b559b-33de-40fd-bb3b-9d1b850767cd",
   "metadata": {},
   "outputs": [],
   "source": [
    "import random\n",
    "\n",
    "def create_matrix(rows, cols, min_val, max_val):\n",
    "    return [[random.randint(min_val, max_val) for _ in range(cols)] for _ in range(rows)]"
   ]
  },
  {
   "cell_type": "code",
   "execution_count": 139,
   "id": "08f220b1-7108-46fb-aca0-67b40ff4d505",
   "metadata": {},
   "outputs": [],
   "source": [
    "def rna_cnv_count_matrix(rna_counts, cnv_tumor):\n",
    "    cnv_normal_mat = create_matrix(19979, 45, 2, 2)\n",
    "    cnv_normal_mat= np.array(cnv_normal)\n",
    "    cnv_tumor_mat = np.array(cnv_tumor)\n",
    "    cnv = np.concatenate((cnv_tumor_mat, cnv_normal_mat), axis=1) \n",
    "    cnv = cnv/2\n",
    "\n",
    "    counts_mat = np.array(rna_counts)\n",
    "    rna_counts_cnv = np.multiply(counts_mat, cnv)\n",
    "    rna_counts_cnv = pd.DataFrame(rna_counts_cnv)\n",
    "    \n",
    "    # Reassign rownames and column names\n",
    "    gene_id = rna_counts.index\n",
    "    gene_id = pd.DataFrame(gene_id)\n",
    "    gene_id.rename(columns = {0:'geneID'}, inplace = True) \n",
    "    rna_counts_cnv = pd.concat([gene_id, rna_counts_cnv], axis=1)\n",
    "    rna_counts_cnv.set_index('geneID', inplace = True)\n",
    "    sample_id = rna_counts.columns\n",
    "    rna_counts_cnv.columns = sample_id\n",
    "    rna_counts_cnv = rna_counts_cnv.T\n",
    "\n",
    "    return rna_counts_cnv"
   ]
  },
  {
   "cell_type": "code",
   "execution_count": 140,
   "id": "97dfca70-4a39-470e-be9e-9c6c80f64ca5",
   "metadata": {},
   "outputs": [],
   "source": [
    "rna_counts_cnv = rna_cnv_count_matrix(rna_counts, cnv_tumor)\n"
   ]
  },
  {
   "cell_type": "markdown",
   "id": "6a755d3c-7428-45c3-a2c7-76e2f25a1528",
   "metadata": {},
   "source": [
    "#### Model fit"
   ]
  },
  {
   "cell_type": "code",
   "execution_count": 85,
   "id": "5266efef-5d84-4377-a341-ac7ccf7aad6e",
   "metadata": {},
   "outputs": [],
   "source": [
    "def test_pydeseq2CN(rna_counts, metadata):\n",
    "    \n",
    "    # Create dds object\n",
    "    dds = DeseqDataSet(\n",
    "        counts=rna_counts,\n",
    "        metadata=metadata,\n",
    "        design_factors=\"condition\",\n",
    "        refit_cooks=False,\n",
    "        n_cpus=8\n",
    "    )\n",
    "    dds.deseq2()\n",
    "    # Statistical test\n",
    "    stat_res = DeseqStats(dds, \n",
    "                      contrast=['condition', 'B', 'A'], \n",
    "                      alpha=0.05, \n",
    "                      cooks_filter=False, \n",
    "                      independent_filter=True, \n",
    "                      prior_LFC_var=None, \n",
    "                      lfc_null=0, \n",
    "                      alt_hypothesis=None, \n",
    "                      inference=None, quiet=False\n",
    "                         )\n",
    "    stat_res.summary()\n",
    "    # LFC shrinkage (apeGLM) \n",
    "    stat_res.lfc_shrink(coeff=\"condition_B_vs_A\")\n",
    "    res_df = stat_res.results_df\n",
    "    return res_df"
   ]
  },
  {
   "cell_type": "code",
   "execution_count": 86,
   "id": "e9d38e62-c8b4-483e-b88b-6b3e9c212e03",
   "metadata": {},
   "outputs": [
    {
     "name": "stderr",
     "output_type": "stream",
     "text": [
      "Fitting size factors...\n",
      "... done in 0.04 seconds.\n",
      "\n",
      "Fitting dispersions...\n",
      "... done in 1.10 seconds.\n",
      "\n",
      "Fitting dispersion trend curve...\n",
      "... done in 0.74 seconds.\n",
      "\n",
      "Fitting MAP dispersions...\n",
      "... done in 1.31 seconds.\n",
      "\n",
      "Fitting LFCs...\n",
      "... done in 0.56 seconds.\n",
      "\n",
      "Running Wald tests...\n",
      "... done in 0.42 seconds.\n",
      "\n",
      "Fitting MAP LFCs...\n"
     ]
    },
    {
     "name": "stdout",
     "output_type": "stream",
     "text": [
      "Log2 fold change & Wald test p-value: condition B vs A\n",
      "            baseMean  log2FoldChange     lfcSE      stat    pvalue      padj\n",
      "G 1        47.724375       -0.146760  0.293935 -0.499296  0.617571  0.999868\n",
      "G 2       363.551597       -0.067415  0.211498 -0.318749  0.749917  0.999868\n",
      "G 3       879.641536       -0.087083  0.171480 -0.507833  0.611570  0.999868\n",
      "G 4        24.362647        0.233736  0.268687  0.869921  0.384343  0.999868\n",
      "G 5      3707.907244       -0.062938  0.192512 -0.326931  0.743720  0.999868\n",
      "...              ...             ...       ...       ...       ...       ...\n",
      "G 14996   594.658205       -0.197746  0.184121 -1.074002  0.282822  0.999868\n",
      "G 14997  1132.731293        0.076383  0.139005  0.549498  0.582664  0.999868\n",
      "G 14998    14.009224        0.401684  0.229216  1.752428  0.079700  0.999868\n",
      "G 14999   265.627439        0.098208  0.148001  0.663565  0.506969  0.999868\n",
      "G 15000   438.623532       -0.003224  0.089394 -0.036066  0.971230  0.999868\n",
      "\n",
      "[15000 rows x 6 columns]\n",
      "Shrunk log2 fold change & Wald test p-value: condition B vs A\n",
      "            baseMean  log2FoldChange     lfcSE      stat    pvalue      padj\n",
      "G 1        47.724375   -1.759724e-06  0.001408 -0.499296  0.617571  0.999868\n",
      "G 2       363.551597   -1.657652e-06  0.001426 -0.318749  0.749917  0.999868\n",
      "G 3       879.641536   -3.458112e-06  0.001421 -0.507833  0.611570  0.999868\n",
      "G 4        24.362647    3.328379e-06  0.001500  0.869921  0.384343  0.999868\n",
      "G 5      3707.907244   -1.724637e-06  0.001427 -0.326931  0.743720  0.999868\n",
      "...              ...             ...       ...       ...       ...       ...\n",
      "G 14996   594.658205   -6.047613e-06  0.001396 -1.074002  0.282822  0.999868\n",
      "G 14997  1132.731293    4.188237e-06  0.001462  0.549498  0.582664  0.999868\n",
      "G 14998    14.009224    7.927858e-06  0.001532  1.752428  0.079700  0.999868\n",
      "G 14999   265.627439    3.617875e-06  0.001467  0.663565  0.506969  0.999868\n",
      "G 15000   438.623532   -4.861576e-07  0.001441 -0.036066  0.971230  0.999868\n",
      "\n",
      "[15000 rows x 6 columns]\n"
     ]
    },
    {
     "name": "stderr",
     "output_type": "stream",
     "text": [
      "... done in 2.19 seconds.\n",
      "\n"
     ]
    }
   ],
   "source": [
    "res = test_pydeseq2CN(rna_counts, metadata)"
   ]
  },
  {
   "cell_type": "markdown",
   "id": "8385ed3e-6706-4beb-9ee1-95c5d4fb7471",
   "metadata": {},
   "source": [
    "#### Save results"
   ]
  },
  {
   "cell_type": "code",
   "execution_count": 84,
   "id": "6282e460-42b5-4633-b2fc-a82e2dc9ce98",
   "metadata": {},
   "outputs": [],
   "source": [
    "# Replace this with the path to directory where you would like results to be saved\n",
    "OUTPUT_PATH = \"data_simulation/results/sim_4/\"\n",
    "os.makedirs(OUTPUT_PATH, exist_ok=True)  # Create path if it doesn't exist\n",
    "res.to_csv(os.path.join(OUTPUT_PATH, \"res_sim_cnv.csv\"))"
   ]
  }
 ],
 "metadata": {
  "kernelspec": {
   "display_name": "Python 3 (ipykernel)",
   "language": "python",
   "name": "python3"
  },
  "language_info": {
   "codemirror_mode": {
    "name": "ipython",
    "version": 3
   },
   "file_extension": ".py",
   "mimetype": "text/x-python",
   "name": "python",
   "nbconvert_exporter": "python",
   "pygments_lexer": "ipython3",
   "version": "3.11.7"
  }
 },
 "nbformat": 4,
 "nbformat_minor": 5
}
